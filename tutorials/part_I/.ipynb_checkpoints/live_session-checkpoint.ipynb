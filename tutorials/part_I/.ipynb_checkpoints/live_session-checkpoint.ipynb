{
 "cells": [
  {
   "cell_type": "markdown",
   "metadata": {},
   "source": [
    "# Tutorial \n",
    "\n",
    "## Part-I\n",
    "\n",
    "In this live session, we will **(a)** read from a text file, **(b)** store data in intermediate structures, **(c)** traverse chunks of input, **(d)** eliminate trailing white spaces and stop words, and **(e)** write the processed data to an output file. Target language will be Turkish."
   ]
  },
  {
   "cell_type": "code",
   "execution_count": 1,
   "metadata": {
    "ExecuteTime": {
     "end_time": "2020-10-28T07:55:11.561774Z",
     "start_time": "2020-10-28T07:55:11.557434Z"
    }
   },
   "outputs": [],
   "source": [
    "import glob"
   ]
  },
  {
   "cell_type": "code",
   "execution_count": 4,
   "metadata": {
    "ExecuteTime": {
     "end_time": "2020-10-28T07:58:01.851142Z",
     "start_time": "2020-10-28T07:58:01.847020Z"
    }
   },
   "outputs": [],
   "source": [
    "input_path = \"./in/\"\n",
    "output_path = \"./out/\""
   ]
  },
  {
   "cell_type": "code",
   "execution_count": 5,
   "metadata": {
    "ExecuteTime": {
     "end_time": "2020-10-28T08:10:40.717305Z",
     "start_time": "2020-10-28T08:10:40.710739Z"
    }
   },
   "outputs": [],
   "source": [
    "def read_and_store_input(input_path):\n",
    "    data = {}\n",
    "    input_files = glob.glob(input_path+'mtdb/*.txt')\n",
    "    for file_path in input_files:\n",
    "        content = open(file_path,'r')\n",
    "        file_name = file_path.split('/')[-1]\n",
    "        # data = {file_name_1:[line_1,line_2,...,line_n]}\n",
    "        data[file_name]=[]\n",
    "        # data = {file_name_2:[]}\n",
    "        # populate the list content from file\n",
    "        for line in content:\n",
    "            # check if line has content\n",
    "            if line.strip() != \"\":\n",
    "                data[file_name].append(line)\n",
    "    return data"
   ]
  },
  {
   "cell_type": "code",
   "execution_count": 6,
   "metadata": {
    "ExecuteTime": {
     "end_time": "2020-10-28T08:11:04.050115Z",
     "start_time": "2020-10-28T08:11:03.984318Z"
    }
   },
   "outputs": [],
   "source": [
    "data = read_and_store_input(input_path)"
   ]
  },
  {
   "cell_type": "code",
   "execution_count": 11,
   "metadata": {
    "ExecuteTime": {
     "end_time": "2020-10-28T08:22:47.364303Z",
     "start_time": "2020-10-28T08:22:47.348125Z"
    }
   },
   "outputs": [
    {
     "name": "stdout",
     "output_type": "stream",
     "text": [
      "LINE #0: haber\n",
      "LINE #1: Lobi faaliyetine Yunanistan'dan başlayan TÜSİAD heyeti dün ilk olarak Yunan İşadamları Derneği (SEB) ve Yunan Sanayi Federasyonu (FIG) yetkilileri ile görüştü. Daha sonra Simitis tarafından kabul edilen heyet, Simitis'e Türkiye'nin Kopenhag kirterlerine uyumda önemli adımlar attığını, uygulamanın seçimler sonrasında atılacağını, müzakere tarihi verilmemesinin memnuniyetsizilik yaratacağını söyledi.\n",
      "LINE #2: Türkiye, Avrupa'nın parçası\n",
      "LINE #3: Simitis, heyete, Avrupa'nın bir parçası olarak gördükleri Türkiye'ye müzakere tarihi verilmesini desteklediklerini söyledi. Kıbrıs'ın AB üyeliğinin de engellenmemesi gerektiğini vurgulayan Simitis, \"Türkiye'ye müzakere tarihi verildiği ortamda Kıbrıs sorunu çözülmüş olacaktır herhalde. Bu ikisi birbirine bağlı değil ama beraber gitmeleri gereken iki süreç\" dedi.\n",
      "LINE #4: Kıbrıs'ta tek model önerisi\n",
      "LINE #5: Türkiye'ye tarih verilmesi, buna karşın Kıbrıs'ın AB'ye dahil edilmemesinin Atina'da sıkıntı yaratacağını anlatan Simitis, Ege kıta sahanlığı meselesine de 2004'e kadar çözüm bulunması gerektiğini belirtti. Kıbrıs'ta müzakerenin devamından yana olduğunu kaydeden Simitis,, farklı modeller yerine tek bir modelin olması gerektiğini vurguladı.\n",
      "LINE #6: TÜSİAD'ın FIG yetkilileri ile yapılan görüşmeden sonra yapılan açıklamada, \"Üyelik müzakereleri Türkiye ve Yunanistan arasındaki siyasi meselelerin çözümüne olumlu etki yapar. Türkiye'nin adaylık sürecinin diğer adaylarla eşit statüde değerlendirilmeliUluslararası Finans Enstitüsü (IIF), Türkiye'nin 2004 - 2005'te yeni bir IMF desteğine ihtiyaç duyabileceğini bildirdi.\n",
      "LINE #7: Finansal kuruluşların global birliği olan IIF'nin raporunda \"Politik belirsizlik nedeniyle artan kamu borçlanma maliyeti gelecek yıla ait finansman baskılarını artırdı. Bu baskılar, 3 Kasım'da seçilen hükümet IMF programını sürdürürse idare edilebilir\" denildi. IIF, IMF'ye 2004 ve 2005'te yapılacak yüklü borç geri ödemelerinin yeni bir IMF desteği olmadan yapılmasının güç olduğunu belirtti. Irak'taki bir savaşın finans piyasalarını rahatsız edeceğini, petrol fiyatını artıracağını, turizme zarar vereceğini söyleyen IIF, IMF ile yeni program başlatılmasının ek finansal desteğe de imkân vereceğini söyledi.\n",
      "LINE #8: Cari işlemler açığının 2004'te GSYİH'nin (gayri safi yurtiçi hasıla) yüzde 2'sini bulacağını tahmin eden IIF'ye göre, bu açık yeni bir IMF programının yabancı sermaye piyasalarından kaynak teminini mümkün kılacağı varsayımıyla idare edilebilir.\n",
      "LINE #9: Türkiye yüzde 6.5 büyür\n",
      "LINE #10: \"Kamu borçlanmasının idare edilebilir şekilde kalması için Hazine bonosu faizinin marta kadar yüzde 45'in altına inmesi gerekiyor\" diyen IIF, reformların geciktirilmesinin piyasa güveninin daha kötü hale gelmesine yol açacağı uyarısında bulundu. IIF, Türkiye'nin bu yıl GSYİH büyüme oranını yüzde 6.5, tüketici fiyat endeksi (TÜFE) artışını yüzde 32.9 tahmin etti.\n",
      "LINE #11: Son aylardaki yüksek faizler nedeniyle büyümenin 2003'te yavaşlayacağını öngören IIF'ye göre 2003'te GSYİH yüzde 3.5 ve TÜFE yüzde 25 artacak, dış ticaret bu yıl 9.1 milyar dolar ve 2003'te 12.4 milyar dolar açık verecek, cari işlemler dengesi bu yıl 2.72 milyar dolar açıkla kapanacak. TL bu yıl yüzde 8.7 ve gelecek yıl yüzde 15.8 reel değer kazanacak.\n",
      "LINE #12: Borçta iki senaryo\n",
      "LINE #13: Washington'daki IMF - Dünya Bankası toplantılarına katılan Hazine Müsteşarı Faik Öztrak'ın sunumuna göre, net kamu borcu - gayri safi yurtiçi hasıla (milli gelir) oranı bu yıl sonunda yüzde 81 olacak.\n",
      "LINE #14: Bu oran, \"hızlı büyüme - düşük faiz\" senaryosunda 2006'da yüzde 58.2'ye gerileyecek, \"düşük büyüme oranı, yüksek faize\" göreyse yüzde 89.5'e çıkacak. Bu yıl 86. 9 milyar dolar olan kamunun toplam borç ödemesinin, 2003'te 73.3 milyar dolara inmesinin beklendiği de ifade edildi. Bu yılın ilk dokuz ayında, Hazine ihalelerinde, yüzde 66 seviyesinde gerçekleşen ortalama faizin gelecek yıl yüzde 45'e düşmesi bekleniyor.\n",
      "LINE #15: Sunumda, bu yılın ocak - eylül döneminde 68.3 milyar dolar borç ödenirken, bu miktar ekim - aralık döneminde 18.6 milyar dolar olarak öngörüldü. Bunun 13.4 milyar doları iç borçlanmayla sağlanacak.\n",
      "LINE #16: Türkiye'nin Ağustos 2002 itibariyle, toplam konsolide bütçe borcu 139.5 milyar dolar. Bunun en büyük bölümünü yüzde 29.6 ile kamu kesimine olan borç oluşturdu.\n",
      "LINE #17: Enerji Bakanı Zeki Çakan, doğalgaz satış fiyatlarında bugünden geçerli olarak şehir dağıtım şirketlerine yüzde 6, sanayi fiyat tarifesinde ise yüzde 5 oranında indirim yapılacağını açıkladı. Çakan yaptığı yazılı açıklamada, indirim kararının doğalgaz arzının büyük bölümünün karşılandığı Rusya'nın sağladığı fiyat indirimleri sonrasında gerçekleştiğini söyledi.\n",
      "LINE #18: Çakan, \"Rusya Federasyonu'ndan iki ayrı anlaşma kapsamında alınmakta olan doğalgazın fiyat indirimi konusunda 2000 yılından beri sürdürülen görüşmeler ağustos ayı içinde toplam yüzde 9 oranında indirim sağlanmasıyla sonuçlandırılmıştır. Alınan indirim içinde Turusgaz şirketine ödenmekte olan marj da yüzde 60 oranında düşürülmüştür\" dedi.\n",
      "LINE #19: Bu indirimlere ek olarak Rusya'dan iki anlaşma kapsamında asgari alım taahhüdünde de ortalama yüzde 10 ilave esneklik sağlandığını belirten Çakan, bu gelişmelerin 2005 yılına kadar 280 milyon dolarlık tasarruf sağlayacağını söyledi. Marka ve şirket alımlarıyla dünya şirketi olma hedefine odaklanan Arçelik, Beko markası ile İngiltere'nin dondurucu hariç toplam buzdolabı pazarının lideri oldu. Ağustos 2002'de pazar payı yüzde 14'e ulaşan Beko'yu Hotpoint markası takip ediyor.\n",
      "LINE #20: 490 bin adetlik ihracat\n",
      "LINE #21: İngiltere'de Beko markasıyla beyaz eşya pazarının önde gelen firmaları arasında yer alan Arçelik, fırında da yüzde 11'lik pazar payına sahip. Arçelik'in, geçtiğimiz ocak - ağustos döneminde İngiltere'ye gerçekleştirdiği ihracat ise 71 milyon euro'ya ulaştı.\n",
      "LINE #22: Arçelik, soğutucu pazarında Beko markasıyla lider olduğu İngiltere'ye 2002 Ocak - Ağustos döneminde 490 bin adet ürün ihraç etti. İhraç edilen ürünlerin yüzde 91'ini buzdolapları oluştururken, bu ürünlerin de yüzde 97'si Beko markası taşıdı.\n",
      "LINE #23: Bu yılın temmuz ayında özellikle fırın markası olarak tanınan İngiliz Leisure'ı satın alan Arçelik, bu yıl içinde İngiltere'de bir de ödül kazandı.\n",
      "LINE #24: Arçelik'in pazarlama şirketi, İngiltere'nin, ürün kalitesi, ürün bulunurluğu, servis desteği ile satış ve pazarlama desteği alanlarındaki başarılı firmalara verilen 'yılın tedarikçisi' ödülünü almıştı. Avrupa'nın önde gelen reklam ajanslarından Belçikalı Newton 21 ile Türk şirketi Statü Reklam Ajansı birleşti. Belçika Bölgesel Ticaret Bakanı Didier Gosuin'in katıldığı birleşme töreninden sonra, Statü'yü temsilen Ajans Başkanı Burak Duruman ve Kemal Gürkaynak, Newton 21'iden Belçika Başkanı Claude Pasque ve Avrupa Başkanı Alain Mahaux, 'Birleşme heyecanı kadar yarın (bugün) yapılacak Galatasaray - Brugge maçı da bizi heyecanlandırıyor' dediler.\n",
      "LINE #25: 'Arabic' sanıyorduk\n",
      "LINE #26: 11 ülkede faaliyet gösteren Newton 21'in Avrupa Başkanı Alain Mahaux, Türkiye'nin AB'ye kısa vadede gireceğine yüzde 200 emin olduklarını belirttikten sonra \"Türkiye bizim için hem şimdi hem de geçmişte çok önemli bir ülkeydi. Çünkü çok büyük, çok gelişmiş bir pazar. Biz AB'de güçlü olmak istediğimiz için Türkiye AB'ye girmeden bu pazara girmek istiyoruz. Geç kalmak istemiyoruz\" dedi.\n",
      "LINE #27: Türkiye'ye ilk olarak iki yıl önce geldiğini belirten Mahaux, \"Geçmişteki bilgilerimize oranla Türkiye'nin daha modern ve vizyonu daha batılı olan bir ülke olduğunu gördük. Daha önce Türkiye'nin daha Arap tarzı (arabic) bir yer olduğunu düşünüyorduk\" dedi.\n",
      "LINE #28: Azınlıklara özel reklam\n",
      "LINE #29: Yatırım kararında 'ortaklık yaptıkları insanlar'ın da önemli olduğunu belirten Mahaux, Burak Duruman ve Kemal Gürkaynak ile de 'çok müspet bir kimya yakaladıklarını' açıkladı.\n",
      "LINE #30: Statü Başkanı Duruman AB'de yaşayan tüm etnik azınlıklar konusunda Newton 21'e destek olacaklarını açıkladı. Duruman \"Özellikle Almanya'da Türk azınlığın ile İspanyollar ve Afrikalılar'ın potansiyelini biz tanıttık onlara ve reklam ihraç ettik. Artık Avrupalı bir firma olarak bu hizmetleri sunacağız. Ayrıca onların Türkiye'deki müşterilerine hizmet verecegiz ve bilgi birikiminden yararlanacağız\" dedi.\n",
      "LINE #31: Türk - Irak İş Konseyi'nin raporunda, alternatif maliyetlerle birlikte Körfez krizinin Türkiye ekonomisinde yarattığı kaybın 12 yılda 100 milyar dolar olduğu, olası Irak operasyonunda da Türkiye'nin 10 yıllık birikimli kaybının alternatif maliyetlerle birlikte 150 milyar dolara ulaşabileceği belirtildi.\n",
      "LINE #32: A ve A Danışmanlık'ın hazırladığı \"Türkiye - Irak ekonomik ilişkileri ve yaklaşan savaş tehlikesi; Türkiye'nin kayıpları ve olası riskler\" raporu, Konsey Başkanı Mehmet Ali Neyzi açıkladı. Raporda, 10 yıllık projeksiyonla, ihracatta 17 milyar dolar, boru hattından 3.5 milyar dolar, müteahhitlik hizmetlerinden 3.2 milyar dolar, bölgesel üretimde 2.5, bölgesel ticarette 3 milyar dolar, Irak'la ticarette 1 milyar dolar, petrol fiyatındaki artıştan 2.6 milyar dolar, turizmden 4 - 5 milyar dolar, bankacılıkta 2.5 milyar dolar kayıp ve ekonomide 15 - 20 milyar dolarlık ek yük oluşacağı hesaplandı.\n",
      "LINE #33: 10 yıllık birikimli maliyetin 70 milyar dolar olacağı, alternatif maliyetlerle birlikte Türkiye'nin (beklentiler de dikkate alınarak) olası kaybının 150 milyar dolara ulaşabileceği kaydedildi.\n",
      "LINE #34: Uluslararası Para Fonu (IMF) ve Dünya Bankası toplantıları için Washington'da bulunan Devlet Bakanı Masum Türker, Türkiye'nin AB'ye kabul edilmemesinin ekonomiyi olumsuz etkilemeyeceğini söyledi.\n",
      "LINE #35: Stratejik ve Uluslararası Etüdler Merkezi (CSIS) adlı kuruluşta bir konuşma yapan Türker, \"Türkiye'nin AB'ye muhtemel üyeliği doğu ile batı arasındaki diyalog ve işbirliği sürecini güçlendirecektir. Türkiye'nin bu önemli köprü rolünü AB üyesi ülkelerin de takdir edeceğini umuyoruz\" dedi.\n",
      "LINE #36: Türker, \"AB, Türkiye'ye tarih vermezse bunun ekonomik etkileri ne olur?\" yönündeki bir soruya karşılık, \"AB'ye kabul edilmezsek, bunun ekonomiye olumsuz etkisi olacağını düşünmüyorum\" dedi.\n",
      "LINE #37: Dün ABD Hazine Bakanı Paul O'Neill ile de görüşen Türker, O'Neill'ın, Türk ekonomisindeki mevcut gidişten memnun olduğunu ifade ettiğini bildirdi.\n",
      "LINE #38: IMF'ye verilen taahhütler çerçevesinde hazırlanan yeni vergi paketi, işçi ve memurlara \"Özel gider indirimi\" adı altında yapılmakta olan vergi iadesine de son verecek.\n",
      "LINE #39: Maliye Bakanlığı Gelirler Genel Müdürlüğü'nün üzerinde çalışıltığı pakete göre, işçi ve memurlar, 2003'te son kez vergi iadesinden yararlanacak. Çalışanlar, belgelerini, 2003 Ocak ayında teslim edecek ve şubattan itibaren özel gider indirimi çerçevesinde iade alacaklar.\n",
      "LINE #40: Vergi paketi, seçim nedeniyle 2003 Ocak, Şubat aylarında yasalaşsa dahi, işçi ve memurlara kazanılmış hak adı altında iki - üç ay için özel gider indirimi uygulanmayacak. Ancak diğer bazı vergi kanunlarında da değişiklik içeren tasarının kanunlaşması gecikirse ve 2003'ün ikinci yarısında yürürlüğe girerse, bu durumda özel gider indirimi altı ay daha devam ettirilecek. Bu sürede toplanan fatura ve fişler, özel gider indirimi çerçevesinde değerlendirilecek.\n",
      "LINE #41: Mahsup sistemi\n",
      "LINE #42: Söz konusu düzenlemede özel gider indiriminin yerini \"vergi mahsup hakkı\" alacak. Yeni sistemde, \"İşçi ve memurların aylık gelir vergisinden şu miktar düşülecek\" denecek. Bu rakam, her yıl yeniden belirlenecek. Mahsupta asgari ücretlinin vergisi baz alınacak. Gelirler Genel Müdürlüğü yetkilileri, halen ayda 27 milyon lira gelir vergisi ödeyen bir asgari ücretlinin, bu yıl için toplam 107 milyon lira, aylık olarak da 8 milyon 917 bin lira vergi iadesi alacağına dikkati çektiler. Çalışmalarda bu tutar dikkate alınarak, işçi ve memurlara aylık 15 milyon lira dolayında bir mahsup hakkı verilmesi düşünülüyor.\n",
      "LINE #43: Hak kaybı olacak\n",
      "LINE #44: Mevcut sistemde 30 milyon lira olarak uygulanan özel indirim de, çalışanlara 4.5 milyon liralık bir vergi avantajı getiriyor. Bunun da mahsup içine alınmasıyla ücretlilerin aylık vergisinde, 20 milyon liralık bir iyileşme olacak. Çalışanlara 15 milyon liralık bir vergi mahsup hakkı getirilmesi, asgari ücretliye 6 milyon liralık ek bir avantaj sağlarken, ortalama ve yüksek ücretlilerde büyük kayba yol açıyor. Bu kesimin vergi iadelerinde yüzde 50 ile 97 arasında bir azalma oluyor. 3.4 milyar lira özel gider indirimine hak kazanan 2 milyar lira ücreti bir kişinin aylık iadesi, 280 milyon liradan 15 milyon liraya, kaybı da yüzde 95'e ulaşıyor. 1 milyar lira ücreti olan bir ücretlinin kaybı ise yüzde 87'ye ulaşıyor.\n",
      "LINE #45: Avrupa Birliği (AB) üyesi 13 ülkenin büyükelçileri ile sabah kahvaltısında bir araya gelen Türkiye Odalar ve Borsalar Birliği (TOBB) ve dokuz sivil toplum kuruluşu, Brüksel'de başlatacakları lobi çıkartması öncesi nabız tuttu. Toplantıya katılan büyükelçiler, TOBB'e lobi taktiği verdi. İngiltere Büyükelçisi Peter Westmacott, \"Üyeliği ölüm - kalım meselesi yaptığınız izlenimini vermeyin. Çok üstüne düşüyormuş gibi yapmayın. İstenileni yaptık, tarih verin' mesajını götürün\" dedi.\n",
      "LINE #46: AB Komsiyonu Türkiye Temsilcisi Hans Kretschmer'in de bulunduğu toplantıda İngiltere ve Danimarka büyükelçileri, \"Türkiye'nin üyelik kararı siyasi bir karar olacak\" dediler. Danimarka Büyükelçisi Christian Hoppe da, \"AB Güney Kıbrıs'ı üyeliğe kabul etmek zorunda kalacak. Belki, birleşik bir devlet olarak kabul edilir\" dedi.\n",
      "LINE #47: Washington'daki IMF - Dünya Bankası toplantılarına katılan Hazine Müsteşarı Faik Öztrak'ın sunumuna göre, net kamu borcu - gayri safi yurtiçi hasıla (milli gelir) oranı bu yıl sonunda yüzde 81 olacak.\n",
      "LINE #48: Bu oran \"hızlı büyüme - düşük faiz\" senaryosunda 2006'da yüzde 58.2'ye gerileyecek, \"düşük büyüme oranı, yüksek faize\" göreyse yüzde 89.5'e çıkacak. Bu yıl 86. 9 milyar dolar olan kamunun toplam borç ödemesinin, 2003'te 73.3 milyar dolara inmesinin beklendiği de ifade edildi. Bu yılın ilk dokuz ayında, Hazine ihalelerinde, yüzde 66 seviyesinde gerçekleşen ortalama faizin gelecek yıl yüzde 45'e düşmesi bekleniyor.\n",
      "LINE #49: Üç ayda 18.6 milyar dolar ödenecek\n",
      "LINE #50: Bu yıl ocak - eylül döneminde 68.3 milyar dolar borç ödenirken, bu miktar ekim-aralık döneminde 18.6 milyar dolar öngörülüyor. Bunun 13.4 milyar doları iç borçlanmayla sağlanacak. Ağustos 2002 itibariyle, toplam konsolide bütçe borcu ise 139.5 milyar dolar. Bunun en büyük bölümünü yüzde 29.6 ile kamu kesimine olan borç oluşturdu.\n",
      "LINE #51: Hazine ekimde 8.4 katrilyon iç, 1.1 katrilyon lira dış borç ödeyecek, piyasadan 5.8 katrilyon borçlanacak.\n",
      "LINE #52: Şimdiye kadar bir gün içerisindeki en yüksek iç borç ödemesi 6 katrilyon 462.7 trilyon lira ile 23 Ekim'de yapılacak. Haziran sonu itibariyle dış borç stoğu da, yılın ilk çeyreğine göre 8 milyar dolar artarak 125.8 milyar dolara yükseldi. Dış borç stoğundaki artışın 1 milyar doları, döviz kuru değişikliklerinden kaynaklandı.\n",
      "LINE #53: Özelleştirme İdaresi (ÖİB) Başkanı Turgut Bozkurt, özelleştirmenin hızlandırılması icin cazip şartlar getireceklerini, dolar cinsinden teklif alınırken, yatırımcının isterse TL olarak da ödeme yapabileceğini söyledi. Ödemede dolarda libor, TL'de de enflasyon oranı kadar değişken faiz uygulanacak.Bozkurt, Tekel'i de 6 yıl öncesinin Telekom'una benzeterek, \"Şu anda Tekel'den alabileceğimiz ideal rakamı yakalayabiliriz\" dedi.\n",
      "LINE #54: Evet efendim, kaldığımız yerden Milano anılarımıza devam. Cumartesi günü, sabah çayına Milano'ya gelen tüm Türkler'in yakından tanıdığı bir yere gittim. Otelin hemen karşısında Taragano adlı bir butiği olan İzi'nin dükkanı. İzi benim güzel arkadaşım olan Şaziye'nin işletmecisi Nedim Binler'in de yeğeni. Bütün gün Türkçe müzik çalıyor. Gülben Ergen'den Nez'e, Muazzez Ersoy'dan Abacı'ya varıncaya kadar İzi'nin geniş bir Türkçe CD koleksiyonu var. Hoşsohbet, eğlenceli biri. Biz otururken dükkana İstanbul Büyük Kulüp'ün Başkanı olan iş adamı Duran Akbulut geldi.\n",
      "LINE #55: Lobi faaliyetine Yunanistan'dan başlayan TÜSİAD heyeti dün ilk olarak Yunan İşadamları Derneği (SEB) ve Yunan Sanayi Federasyonu (FIG) yetkilileri ile görüştü. Daha sonra Simitis tarafından kabul edilen heyet, Simitis'e Türkiye'nin Kopenhag kirterlerine uyumda önemli adımlar attığını, uygulamanın seçimler sonrasında atılacağını, müzakere tarihi verilmemesinin memnuniyetsizilik yaratacağını söyledi.\n",
      "LINE #56: Türkiye, Avrupa'nın parçası\n",
      "LINE #57: Simitis, heyete, Avrupa'nın bir parçası olarak gördükleri Türkiye'ye müzakere tarihi verilmesini desteklediklerini söyledi. Kıbrıs'ın AB üyeliğinin de engellenmemesi gerektiğini vurgulayan Simitis, \"Türkiye'ye müzakere tarihi verildiği ortamda Kıbrıs sorunu çözülmüş olacaktır herhalde. Bu ikisi birbirine bağlı değil ama beraber gitmeleri gereken iki süreç\" dedi.\n",
      "LINE #58: Kıbrıs'ta tek model önerisi\n",
      "LINE #59: Türkiye'ye tarih verilmesi, buna karşın Kıbrıs'ın AB'ye dahil edilmemesinin Atina'da sıkıntı yaratacağını anlatan Simitis, Ege kıta sahanlığı meselesine de 2004'e kadar çözüm bulunması gerektiğini belirtti. Kıbrıs'ta müzakerenin devamından yana olduğunu kaydeden Simitis,, farklı modeller yerine tek bir modelin olması gerektiğini vurguladı.\n",
      "LINE #60: TÜSİAD'ın FIG yetkilileri ile yapılan görüşmeden sonra yapılan açıklamada, \"Üyelik müzakereleri Türkiye ve Yunanistan arasındaki siyasi meselelerin çözümüne olumlu etki yapar. Türkiye'nin adaylık sürecinin diğer adaylarla eşit statüde değerlendirilmeliUluslararası Finans Enstitüsü (IIF), Türkiye'nin 2004 - 2005'te yeni bir IMF desteğine ihtiyaç duyabileceğini bildirdi.\n",
      "LINE #61: Finansal kuruluşların global birliği olan IIF'nin raporunda \"Politik belirsizlik nedeniyle artan kamu borçlanma maliyeti gelecek yıla ait finansman baskılarını artırdı. Bu baskılar, 3 Kasım'da seçilen hükümet IMF programını sürdürürse idare edilebilir\" denildi. IIF, IMF'ye 2004 ve 2005'te yapılacak yüklü borç geri ödemelerinin yeni bir IMF desteği olmadan yapılmasının güç olduğunu belirtti. Irak'taki bir savaşın finans piyasalarını rahatsız edeceğini, petrol fiyatını artıracağını, turizme zarar vereceğini söyleyen IIF, IMF ile yeni program başlatılmasının ek finansal desteğe de imkân vereceğini söyledi.\n",
      "LINE #62: Cari işlemler açığının 2004'te GSYİH'nin (gayri safi yurtiçi hasıla) yüzde 2'sini bulacağını tahmin eden IIF'ye göre, bu açık yeni bir IMF programının yabancı sermaye piyasalarından kaynak teminini mümkün kılacağı varsayımıyla idare edilebilir.\n",
      "LINE #63: Türkiye yüzde 6.5 büyür\n",
      "LINE #64: \"Kamu borçlanmasının idare edilebilir şekilde kalması için Hazine bonosu faizinin marta kadar yüzde 45'in altına inmesi gerekiyor\" diyen IIF, reformların geciktirilmesinin piyasa güveninin daha kötü hale gelmesine yol açacağı uyarısında bulundu. IIF, Türkiye'nin bu yıl GSYİH büyüme oranını yüzde 6.5, tüketici fiyat endeksi (TÜFE) artışını yüzde 32.9 tahmin etti.\n",
      "LINE #65: Son aylardaki yüksek faizler nedeniyle büyümenin 2003'te yavaşlayacağını öngören IIF'ye göre 2003'te GSYİH yüzde 3.5 ve TÜFE yüzde 25 artacak, dış ticaret bu yıl 9.1 milyar dolar ve 2003'te 12.4 milyar dolar açık verecek, cari işlemler dengesi bu yıl 2.72 milyar dolar açıkla kapanacak. TL bu yıl yüzde 8.7 ve gelecek yıl yüzde 15.8 reel değer kazanacak.\n",
      "LINE #66: Borçta iki senaryo\n",
      "LINE #67: Washington'daki IMF - Dünya Bankası toplantılarına katılan Hazine Müsteşarı Faik Öztrak'ın sunumuna göre, net kamu borcu - gayri safi yurtiçi hasıla (milli gelir) oranı bu yıl sonunda yüzde 81 olacak.\n",
      "LINE #68: Bu oran, \"hızlı büyüme - düşük faiz\" senaryosunda 2006'da yüzde 58.2'ye gerileyecek, \"düşük büyüme oranı, yüksek faize\" göreyse yüzde 89.5'e çıkacak. Bu yıl 86. 9 milyar dolar olan kamunun toplam borç ödemesinin, 2003'te 73.3 milyar dolara inmesinin beklendiği de ifade edildi. Bu yılın ilk dokuz ayında, Hazine ihalelerinde, yüzde 66 seviyesinde gerçekleşen ortalama faizin gelecek yıl yüzde 45'e düşmesi bekleniyor.\n",
      "LINE #69: Sunumda, bu yılın ocak - eylül döneminde 68.3 milyar dolar borç ödenirken, bu miktar ekim - aralık döneminde 18.6 milyar dolar olarak öngörüldü. Bunun 13.4 milyar doları iç borçlanmayla sağlanacak.\n",
      "LINE #70: Türkiye'nin Ağustos 2002 itibariyle, toplam konsolide bütçe borcu 139.5 milyar dolar. Bunun en büyük bölümünü yüzde 29.6 ile kamu kesimine olan borç oluşturdu.\n",
      "LINE #71: Enerji Bakanı Zeki Çakan, doğalgaz satış fiyatlarında bugünden geçerli olarak şehir dağıtım şirketlerine yüzde 6, sanayi fiyat tarifesinde ise yüzde 5 oranında indirim yapılacağını açıkladı. Çakan yaptığı yazılı açıklamada, indirim kararının doğalgaz arzının büyük bölümünün karşılandığı Rusya'nın sağladığı fiyat indirimleri sonrasında gerçekleştiğini söyledi.\n",
      "LINE #72: Çakan, \"Rusya Federasyonu'ndan iki ayrı anlaşma kapsamında alınmakta olan doğalgazın fiyat indirimi konusunda 2000 yılından beri sürdürülen görüşmeler ağustos ayı içinde toplam yüzde 9 oranında indirim sağlanmasıyla sonuçlandırılmıştır. Alınan indirim içinde Turusgaz şirketine ödenmekte olan marj da yüzde 60 oranında düşürülmüştür\" dedi.\n",
      "LINE #73: Bu indirimlere ek olarak Rusya'dan iki anlaşma kapsamında asgari alım taahhüdünde de ortalama yüzde 10 ilave esneklik sağlandığını belirten Çakan, bu gelişmelerin 2005 yılına kadar 280 milyon dolarlık tasarruf sağlayacağını söyledi. Marka ve şirket alımlarıyla dünya şirketi olma hedefine odaklanan Arçelik, Beko markası ile İngiltere'nin dondurucu hariç toplam buzdolabı pazarının lideri oldu. Ağustos 2002'de pazar payı yüzde 14'e ulaşan Beko'yu Hotpoint markası takip ediyor.\n",
      "LINE #74: 490 bin adetlik ihracat\n",
      "LINE #75: İngiltere'de Beko markasıyla beyaz eşya pazarının önde gelen firmaları arasında yer alan Arçelik, fırında da yüzde 11'lik pazar payına sahip. Arçelik'in, geçtiğimiz ocak - ağustos döneminde İngiltere'ye gerçekleştirdiği ihracat ise 71 milyon euro'ya ulaştı.\n",
      "LINE #76: Arçelik, soğutucu pazarında Beko markasıyla lider olduğu İngiltere'ye 2002 Ocak - Ağustos döneminde 490 bin adet ürün ihraç etti. İhraç edilen ürünlerin yüzde 91'ini buzdolapları oluştururken, bu ürünlerin de yüzde 97'si Beko markası taşıdı.\n",
      "LINE #77: Bu yılın temmuz ayında özellikle fırın markası olarak tanınan İngiliz Leisure'ı satın alan Arçelik, bu yıl içinde İngiltere'de bir de ödül kazandı.\n",
      "LINE #78: Arçelik'in pazarlama şirketi, İngiltere'nin, ürün kalitesi, ürün bulunurluğu, servis desteği ile satış ve pazarlama desteği alanlarındaki başarılı firmalara verilen 'yılın tedarikçisi' ödülünü almıştı. Avrupa'nın önde gelen reklam ajanslarından Belçikalı Newton 21 ile Türk şirketi Statü Reklam Ajansı birleşti. Belçika Bölgesel Ticaret Bakanı Didier Gosuin'in katıldığı birleşme töreninden sonra, Statü'yü temsilen Ajans Başkanı Burak Duruman ve Kemal Gürkaynak, Newton 21'iden Belçika Başkanı Claude Pasque ve Avrupa Başkanı Alain Mahaux, 'Birleşme heyecanı kadar yarın (bugün) yapılacak Galatasaray - Brugge maçı da bizi heyecanlandırıyor' dediler.\n",
      "LINE #79: 'Arabic' sanıyorduk\n",
      "LINE #80: 11 ülkede faaliyet gösteren Newton 21'in Avrupa Başkanı Alain Mahaux, Türkiye'nin AB'ye kısa vadede gireceğine yüzde 200 emin olduklarını belirttikten sonra \"Türkiye bizim için hem şimdi hem de geçmişte çok önemli bir ülkeydi. Çünkü çok büyük, çok gelişmiş bir pazar. Biz AB'de güçlü olmak istediğimiz için Türkiye AB'ye girmeden bu pazara girmek istiyoruz. Geç kalmak istemiyoruz\" dedi.\n",
      "LINE #81: Türkiye'ye ilk olarak iki yıl önce geldiğini belirten Mahaux, \"Geçmişteki bilgilerimize oranla Türkiye'nin daha modern ve vizyonu daha batılı olan bir ülke olduğunu gördük. Daha önce Türkiye'nin daha Arap tarzı (arabic) bir yer olduğunu düşünüyorduk\" dedi.\n",
      "LINE #82: Azınlıklara özel reklam\n",
      "LINE #83: Yatırım kararında 'ortaklık yaptıkları insanlar'ın da önemli olduğunu belirten Mahaux, Burak Duruman ve Kemal Gürkaynak ile de 'çok müspet bir kimya yakaladıklarını' açıkladı.\n",
      "LINE #84: Statü Başkanı Duruman AB'de yaşayan tüm etnik azınlıklar konusunda Newton 21'e destek olacaklarını açıkladı. Duruman \"Özellikle Almanya'da Türk azınlığın ile İspanyollar ve Afrikalılar'ın potansiyelini biz tanıttık onlara ve reklam ihraç ettik. Artık Avrupalı bir firma olarak bu hizmetleri sunacağız. Ayrıca onların Türkiye'deki müşterilerine hizmet verecegiz ve bilgi birikiminden yararlanacağız\" dedi.\n",
      "LINE #85: Türk - Irak İş Konseyi'nin raporunda, alternatif maliyetlerle birlikte Körfez krizinin Türkiye ekonomisinde yarattığı kaybın 12 yılda 100 milyar dolar olduğu, olası Irak operasyonunda da Türkiye'nin 10 yıllık birikimli kaybının alternatif maliyetlerle birlikte 150 milyar dolara ulaşabileceği belirtildi.\n",
      "LINE #86: A ve A Danışmanlık'ın hazırladığı \"Türkiye - Irak ekonomik ilişkileri ve yaklaşan savaş tehlikesi; Türkiye'nin kayıpları ve olası riskler\" raporu, Konsey Başkanı Mehmet Ali Neyzi açıkladı. Raporda, 10 yıllık projeksiyonla, ihracatta 17 milyar dolar, boru hattından 3.5 milyar dolar, müteahhitlik hizmetlerinden 3.2 milyar dolar, bölgesel üretimde 2.5, bölgesel ticarette 3 milyar dolar, Irak'la ticarette 1 milyar dolar, petrol fiyatındaki artıştan 2.6 milyar dolar, turizmden 4 - 5 milyar dolar, bankacılıkta 2.5 milyar dolar kayıp ve ekonomide 15 - 20 milyar dolarlık ek yük oluşacağı hesaplandı.\n",
      "LINE #87: 10 yıllık birikimli maliyetin 70 milyar dolar olacağı, alternatif maliyetlerle birlikte Türkiye'nin (beklentiler de dikkate alınarak) olası kaybının 150 milyar dolara ulaşabileceği kaydedildi.\n",
      "LINE #88: Uluslararası Para Fonu (IMF) ve Dünya Bankası toplantıları için Washington'da bulunan Devlet Bakanı Masum Türker, Türkiye'nin AB'ye kabul edilmemesinin ekonomiyi olumsuz etkilemeyeceğini söyledi.\n",
      "LINE #89: Stratejik ve Uluslararası Etüdler Merkezi (CSIS) adlı kuruluşta bir konuşma yapan Türker, \"Türkiye'nin AB'ye muhtemel üyeliği doğu ile batı arasındaki diyalog ve işbirliği sürecini güçlendirecektir. Türkiye'nin bu önemli köprü rolünü AB üyesi ülkelerin de takdir edeceğini umuyoruz\" dedi.\n",
      "LINE #90: Türker, \"AB, Türkiye'ye tarih vermezse bunun ekonomik etkileri ne olur?\" yönündeki bir soruya karşılık, \"AB'ye kabul edilmezsek, bunun ekonomiye olumsuz etkisi olacağını düşünmüyorum\" dedi.\n",
      "LINE #91: Dün ABD Hazine Bakanı Paul O'Neill ile de görüşen Türker, O'Neill'ın, Türk ekonomisindeki mevcut gidişten memnun olduğunu ifade ettiğini bildirdi.\n",
      "LINE #92: IMF'ye verilen taahhütler çerçevesinde hazırlanan yeni vergi paketi, işçi ve memurlara \"Özel gider indirimi\" adı altında yapılmakta olan vergi iadesine de son verecek.\n",
      "LINE #93: Maliye Bakanlığı Gelirler Genel Müdürlüğü'nün üzerinde çalışıltığı pakete göre, işçi ve memurlar, 2003'te son kez vergi iadesinden yararlanacak. Çalışanlar, belgelerini, 2003 Ocak ayında teslim edecek ve şubattan itibaren özel gider indirimi çerçevesinde iade alacaklar.\n",
      "LINE #94: Vergi paketi, seçim nedeniyle 2003 Ocak, Şubat aylarında yasalaşsa dahi, işçi ve memurlara kazanılmış hak adı altında iki - üç ay için özel gider indirimi uygulanmayacak. Ancak diğer bazı vergi kanunlarında da değişiklik içeren tasarının kanunlaşması gecikirse ve 2003'ün ikinci yarısında yürürlüğe girerse, bu durumda özel gider indirimi altı ay daha devam ettirilecek. Bu sürede toplanan fatura ve fişler, özel gider indirimi çerçevesinde değerlendirilecek.\n",
      "LINE #95: Mahsup sistemi\n",
      "LINE #96: Söz konusu düzenlemede özel gider indiriminin yerini \"vergi mahsup hakkı\" alacak. Yeni sistemde, \"İşçi ve memurların aylık gelir vergisinden şu miktar düşülecek\" denecek. Bu rakam, her yıl yeniden belirlenecek. Mahsupta asgari ücretlinin vergisi baz alınacak. Gelirler Genel Müdürlüğü yetkilileri, halen ayda 27 milyon lira gelir vergisi ödeyen bir asgari ücretlinin, bu yıl için toplam 107 milyon lira, aylık olarak da 8 milyon 917 bin lira vergi iadesi alacağına dikkati çektiler. Çalışmalarda bu tutar dikkate alınarak, işçi ve memurlara aylık 15 milyon lira dolayında bir mahsup hakkı verilmesi düşünülüyor.\n",
      "LINE #97: Hak kaybı olacak\n",
      "LINE #98: Mevcut sistemde 30 milyon lira olarak uygulanan özel indirim de, çalışanlara 4.5 milyon liralık bir vergi avantajı getiriyor. Bunun da mahsup içine alınmasıyla ücretlilerin aylık vergisinde, 20 milyon liralık bir iyileşme olacak. Çalışanlara 15 milyon liralık bir vergi mahsup hakkı getirilmesi, asgari ücretliye 6 milyon liralık ek bir avantaj sağlarken, ortalama ve yüksek ücretlilerde büyük kayba yol açıyor. Bu kesimin vergi iadelerinde yüzde 50 ile 97 arasında bir azalma oluyor. 3.4 milyar lira özel gider indirimine hak kazanan 2 milyar lira ücreti bir kişinin aylık iadesi, 280 milyon liradan 15 milyon liraya, kaybı da yüzde 95'e ulaşıyor. 1 milyar lira ücreti olan bir ücretlinin kaybı ise yüzde 87'ye ulaşıyor.\n",
      "LINE #99: Avrupa Birliği (AB) üyesi 13 ülkenin büyükelçileri ile sabah kahvaltısında bir araya gelen Türkiye Odalar ve Borsalar Birliği (TOBB) ve dokuz sivil toplum kuruluşu, Brüksel'de başlatacakları lobi çıkartması öncesi nabız tuttu. Toplantıya katılan büyükelçiler, TOBB'e lobi taktiği verdi. İngiltere Büyükelçisi Peter Westmacott, \"Üyeliği ölüm - kalım meselesi yaptığınız izlenimini vermeyin. Çok üstüne düşüyormuş gibi yapmayın. İstenileni yaptık, tarih verin' mesajını götürün\" dedi.\n",
      "LINE #100: AB Komsiyonu Türkiye Temsilcisi Hans Kretschmer'in de bulunduğu toplantıda İngiltere ve Danimarka büyükelçileri, \"Türkiye'nin üyelik kararı siyasi bir karar olacak\" dediler. Danimarka Büyükelçisi Christian Hoppe da, \"AB Güney Kıbrıs'ı üyeliğe kabul etmek zorunda kalacak. Belki, birleşik bir devlet olarak kabul edilir\" dedi.\n",
      "LINE #101: Washington'daki IMF - Dünya Bankası toplantılarına katılan Hazine Müsteşarı Faik Öztrak'ın sunumuna göre, net kamu borcu - gayri safi yurtiçi hasıla (milli gelir) oranı bu yıl sonunda yüzde 81 olacak.\n",
      "LINE #102: Bu oran \"hızlı büyüme - düşük faiz\" senaryosunda 2006'da yüzde 58.2'ye gerileyecek, \"düşük büyüme oranı, yüksek faize\" göreyse yüzde 89.5'e çıkacak. Bu yıl 86. 9 milyar dolar olan kamunun toplam borç ödemesinin, 2003'te 73.3 milyar dolara inmesinin beklendiği de ifade edildi. Bu yılın ilk dokuz ayında, Hazine ihalelerinde, yüzde 66 seviyesinde gerçekleşen ortalama faizin gelecek yıl yüzde 45'e düşmesi bekleniyor.\n",
      "LINE #103: Üç ayda 18.6 milyar dolar ödenecek\n",
      "LINE #104: Bu yıl ocak - eylül döneminde 68.3 milyar dolar borç ödenirken, bu miktar ekim-aralık döneminde 18.6 milyar dolar öngörülüyor. Bunun 13.4 milyar doları iç borçlanmayla sağlanacak. Ağustos 2002 itibariyle, toplam konsolide bütçe borcu ise 139.5 milyar dolar. Bunun en büyük bölümünü yüzde 29.6 ile kamu kesimine olan borç oluşturdu.\n",
      "LINE #105: Hazine ekimde 8.4 katrilyon iç, 1.1 katrilyon lira dış borç ödeyecek, piyasadan 5.8 katrilyon borçlanacak.\n",
      "LINE #106: Şimdiye kadar bir gün içerisindeki en yüksek iç borç ödemesi 6 katrilyon 462.7 trilyon lira ile 23 Ekim'de yapılacak. Haziran sonu itibariyle dış borç stoğu da, yılın ilk çeyreğine göre 8 milyar dolar artarak 125.8 milyar dolara yükseldi. Dış borç stoğundaki artışın 1 milyar doları, döviz kuru değişikliklerinden kaynaklandı.\n",
      "LINE #107: Özelleştirme İdaresi (ÖİB) Başkanı Turgut Bozkurt, özelleştirmenin hızlandırılması icin cazip şartlar getireceklerini, dolar cinsinden teklif alınırken, yatırımcının isterse TL olarak da ödeme yapabileceğini söyledi. Ödemede dolarda libor, TL'de de enflasyon oranı kadar değişken faiz uygulanacak.Bozkurt, Tekel'i de 6 yıl öncesinin Telekom'una benzeterek, \"Şu anda Tekel'den alabileceğimiz ideal rakamı yakalayabiliriz\" dedi.\n",
      "LINE #108: Evet efendim, kaldığımız yerden Milano anılarımıza devam. Cumartesi günü, sabah çayına Milano'ya gelen tüm Türkler'in yakından tanıdığı bir yere gittim. Otelin hemen karşısında Taragano adlı bir butiği olan İzi'nin dükkanı. İzi benim güzel arkadaşım olan Şaziye'nin işletmecisi Nedim Binler'in de yeğeni. Bütün gün Türkçe müzik çalıyor. Gülben Ergen'den Nez'e, Muazzez Ersoy'dan Abacı'ya varıncaya kadar İzi'nin geniş bir Türkçe CD koleksiyonu var. Hoşsohbet, eğlenceli biri. Biz otururken dükkana İstanbul Büyük Kulüp'ün Başkanı olan iş adamı Duran Akbulut geldi.\n"
     ]
    }
   ],
   "source": [
    "for index, line in enumerate(data['20260000.txt']):\n",
    "    print(\"LINE #%s: %s\" %(index, line.strip()))\n",
    "    "
   ]
  },
  {
   "cell_type": "code",
   "execution_count": 14,
   "metadata": {
    "ExecuteTime": {
     "end_time": "2020-10-28T08:25:34.939256Z",
     "start_time": "2020-10-28T08:25:34.935241Z"
    }
   },
   "outputs": [
    {
     "name": "stdout",
     "output_type": "stream",
     "text": [
      "Uluslararası Para Fonu (IMF) ve Dünya Bankası toplantıları için Washington'da bulunan Devlet Bakanı Masum Türker, Türkiye'nin AB'ye kabul edilmemesinin ekonomiyi olumsuz etkilemeyeceğini söyledi.\n"
     ]
    }
   ],
   "source": [
    "file_name = '20260000.txt'\n",
    "line = 35\n",
    "\n",
    "print(data['20260000.txt'][34].strip())"
   ]
  },
  {
   "cell_type": "code",
   "execution_count": 15,
   "metadata": {
    "ExecuteTime": {
     "end_time": "2020-10-28T08:28:04.919198Z",
     "start_time": "2020-10-28T08:28:04.916430Z"
    }
   },
   "outputs": [],
   "source": [
    "# Turkish stop words\n",
    "# https://github.com/sgsinclair/trombone/blob/master/src/main/resources/org/voyanttools/trombone/keywords/stop.tr.turkish-lucene.txt"
   ]
  },
  {
   "cell_type": "code",
   "execution_count": 16,
   "metadata": {
    "ExecuteTime": {
     "end_time": "2020-10-28T08:31:53.026526Z",
     "start_time": "2020-10-28T08:31:53.022013Z"
    }
   },
   "outputs": [],
   "source": [
    "stop_words = []\n",
    "for line in open(input_path+'stop_words', 'r'):\n",
    "    # check if comment\n",
    "    if line[0] != '#':\n",
    "        stop_words.append(line.strip())"
   ]
  },
  {
   "cell_type": "code",
   "execution_count": 17,
   "metadata": {
    "ExecuteTime": {
     "end_time": "2020-10-28T08:32:00.993016Z",
     "start_time": "2020-10-28T08:32:00.982505Z"
    }
   },
   "outputs": [
    {
     "data": {
      "text/plain": [
       "['acaba',\n",
       " 'altmış',\n",
       " 'altı',\n",
       " 'ama',\n",
       " 'ancak',\n",
       " 'arada',\n",
       " 'aslında',\n",
       " 'ayrıca',\n",
       " 'bana',\n",
       " 'bazı',\n",
       " 'belki',\n",
       " 'ben',\n",
       " 'benden',\n",
       " 'beni',\n",
       " 'benim',\n",
       " 'beri',\n",
       " 'beş',\n",
       " 'bile',\n",
       " 'bin',\n",
       " 'bir',\n",
       " 'birçok',\n",
       " 'biri',\n",
       " 'birkaç',\n",
       " 'birkez',\n",
       " 'birşey',\n",
       " 'birşeyi',\n",
       " 'biz',\n",
       " 'bize',\n",
       " 'bizden',\n",
       " 'bizi',\n",
       " 'bizim',\n",
       " 'böyle',\n",
       " 'böylece',\n",
       " 'bu',\n",
       " 'buna',\n",
       " 'bunda',\n",
       " 'bundan',\n",
       " 'bunlar',\n",
       " 'bunları',\n",
       " 'bunların',\n",
       " 'bunu',\n",
       " 'bunun',\n",
       " 'burada',\n",
       " 'çok',\n",
       " 'çünkü',\n",
       " 'da',\n",
       " 'daha',\n",
       " 'dahi',\n",
       " 'de',\n",
       " 'defa',\n",
       " 'değil',\n",
       " 'diğer',\n",
       " 'diye',\n",
       " 'doksan',\n",
       " 'dokuz',\n",
       " 'dolayı',\n",
       " 'dolayısıyla',\n",
       " 'dört',\n",
       " 'edecek',\n",
       " 'eden',\n",
       " 'ederek',\n",
       " 'edilecek',\n",
       " 'ediliyor',\n",
       " 'edilmesi',\n",
       " 'ediyor',\n",
       " 'eğer',\n",
       " 'elli',\n",
       " 'en',\n",
       " 'etmesi',\n",
       " 'etti',\n",
       " 'ettiği',\n",
       " 'ettiğini',\n",
       " 'gibi',\n",
       " 'göre',\n",
       " 'halen',\n",
       " 'hangi',\n",
       " 'hatta',\n",
       " 'hem',\n",
       " 'henüz',\n",
       " 'hep',\n",
       " 'hepsi',\n",
       " 'her',\n",
       " 'herhangi',\n",
       " 'herkesin',\n",
       " 'hiç',\n",
       " 'hiçbir',\n",
       " 'için',\n",
       " 'iki',\n",
       " 'ile',\n",
       " 'ilgili',\n",
       " 'ise',\n",
       " 'işte',\n",
       " 'itibaren',\n",
       " 'itibariyle',\n",
       " 'kadar',\n",
       " 'karşın',\n",
       " 'katrilyon',\n",
       " 'kendi',\n",
       " 'kendilerine',\n",
       " 'kendini',\n",
       " 'kendisi',\n",
       " 'kendisine',\n",
       " 'kendisini',\n",
       " 'kez',\n",
       " 'ki',\n",
       " 'kim',\n",
       " 'kimden',\n",
       " 'kime',\n",
       " 'kimi',\n",
       " 'kimse',\n",
       " 'kırk',\n",
       " 'milyar',\n",
       " 'milyon',\n",
       " 'mu',\n",
       " 'mü',\n",
       " 'mı',\n",
       " 'nasıl',\n",
       " 'ne',\n",
       " 'neden',\n",
       " 'nedenle',\n",
       " 'nerde',\n",
       " 'nerede',\n",
       " 'nereye',\n",
       " 'niye',\n",
       " 'niçin',\n",
       " 'o',\n",
       " 'olan',\n",
       " 'olarak',\n",
       " 'oldu',\n",
       " 'olduğu',\n",
       " 'olduğunu',\n",
       " 'olduklarını',\n",
       " 'olmadı',\n",
       " 'olmadığı',\n",
       " 'olmak',\n",
       " 'olması',\n",
       " 'olmayan',\n",
       " 'olmaz',\n",
       " 'olsa',\n",
       " 'olsun',\n",
       " 'olup',\n",
       " 'olur',\n",
       " 'olursa',\n",
       " 'oluyor',\n",
       " 'on',\n",
       " 'ona',\n",
       " 'ondan',\n",
       " 'onlar',\n",
       " 'onlardan',\n",
       " 'onları',\n",
       " 'onların',\n",
       " 'onu',\n",
       " 'onun',\n",
       " 'otuz',\n",
       " 'oysa',\n",
       " 'öyle',\n",
       " 'pek',\n",
       " 'rağmen',\n",
       " 'sadece',\n",
       " 'sanki',\n",
       " 'sekiz',\n",
       " 'seksen',\n",
       " 'sen',\n",
       " 'senden',\n",
       " 'seni',\n",
       " 'senin',\n",
       " 'siz',\n",
       " 'sizden',\n",
       " 'sizi',\n",
       " 'sizin',\n",
       " 'şey',\n",
       " 'şeyden',\n",
       " 'şeyi',\n",
       " 'şeyler',\n",
       " 'şöyle',\n",
       " 'şu',\n",
       " 'şuna',\n",
       " 'şunda',\n",
       " 'şundan',\n",
       " 'şunları',\n",
       " 'şunu',\n",
       " 'tarafından',\n",
       " 'trilyon',\n",
       " 'tüm',\n",
       " 'üç',\n",
       " 'üzere',\n",
       " 'var',\n",
       " 'vardı',\n",
       " 've',\n",
       " 'veya',\n",
       " 'ya',\n",
       " 'yani',\n",
       " 'yapacak',\n",
       " 'yapılan',\n",
       " 'yapılması',\n",
       " 'yapıyor',\n",
       " 'yapmak',\n",
       " 'yaptı',\n",
       " 'yaptığı',\n",
       " 'yaptığını',\n",
       " 'yaptıkları',\n",
       " 'yedi',\n",
       " 'yerine',\n",
       " 'yetmiş',\n",
       " 'yine',\n",
       " 'yirmi',\n",
       " 'yoksa',\n",
       " 'yüz',\n",
       " 'zaten']"
      ]
     },
     "execution_count": 17,
     "metadata": {},
     "output_type": "execute_result"
    }
   ],
   "source": [
    "stop_words"
   ]
  },
  {
   "cell_type": "code",
   "execution_count": 19,
   "metadata": {
    "ExecuteTime": {
     "end_time": "2020-10-28T08:45:03.204671Z",
     "start_time": "2020-10-28T08:45:02.175160Z"
    }
   },
   "outputs": [],
   "source": [
    "# traverse the data\n",
    "for file, content in data.items():\n",
    "    for index, line in enumerate(content):\n",
    "        # eliminate trailing white spaces\n",
    "        line = line.strip()\n",
    "        # eliminate stop words\n",
    "        new_line = (' ').join(word for word in line.split() if word not in stop_words)\n",
    "        content[index] = new_line"
   ]
  },
  {
   "cell_type": "code",
   "execution_count": 20,
   "metadata": {
    "ExecuteTime": {
     "end_time": "2020-10-28T08:45:39.359985Z",
     "start_time": "2020-10-28T08:45:39.355769Z"
    }
   },
   "outputs": [
    {
     "name": "stdout",
     "output_type": "stream",
     "text": [
      "Uluslararası Para Fonu (IMF) Dünya Bankası toplantıları Washington'da bulunan Devlet Bakanı Masum Türker, Türkiye'nin AB'ye kabul edilmemesinin ekonomiyi olumsuz etkilemeyeceğini söyledi.\n"
     ]
    }
   ],
   "source": [
    "print(data['20260000.txt'][34])"
   ]
  },
  {
   "cell_type": "code",
   "execution_count": 21,
   "metadata": {
    "ExecuteTime": {
     "end_time": "2020-10-28T08:52:06.181454Z",
     "start_time": "2020-10-28T08:52:06.177238Z"
    }
   },
   "outputs": [
    {
     "name": "stdout",
     "output_type": "stream",
     "text": [
      "yapılaşmanın coğrafi şartlara imar planlarına uygun olmaması,\n"
     ]
    }
   ],
   "source": [
    "print(data['10310000.txt'][34])"
   ]
  },
  {
   "cell_type": "code",
   "execution_count": 25,
   "metadata": {
    "ExecuteTime": {
     "end_time": "2020-10-28T08:57:02.690600Z",
     "start_time": "2020-10-28T08:57:02.620233Z"
    }
   },
   "outputs": [],
   "source": [
    "for file_name, content in data.items():\n",
    "        output_file = open(output_path+file_name+'_pp', 'w')\n",
    "        for line in content:\n",
    "            output_file.write(line)\n",
    "            output_file.write('\\n')\n",
    "        output_file.close()"
   ]
  },
  {
   "cell_type": "code",
   "execution_count": null,
   "metadata": {},
   "outputs": [],
   "source": []
  }
 ],
 "metadata": {
  "kernelspec": {
   "display_name": "Python 3",
   "language": "python",
   "name": "python3"
  },
  "language_info": {
   "codemirror_mode": {
    "name": "ipython",
    "version": 3
   },
   "file_extension": ".py",
   "mimetype": "text/x-python",
   "name": "python",
   "nbconvert_exporter": "python",
   "pygments_lexer": "ipython3",
   "version": "3.8.5"
  },
  "varInspector": {
   "cols": {
    "lenName": 16,
    "lenType": 16,
    "lenVar": 40
   },
   "kernels_config": {
    "python": {
     "delete_cmd_postfix": "",
     "delete_cmd_prefix": "del ",
     "library": "var_list.py",
     "varRefreshCmd": "print(var_dic_list())"
    },
    "r": {
     "delete_cmd_postfix": ") ",
     "delete_cmd_prefix": "rm(",
     "library": "var_list.r",
     "varRefreshCmd": "cat(var_dic_list()) "
    }
   },
   "types_to_exclude": [
    "module",
    "function",
    "builtin_function_or_method",
    "instance",
    "_Feature"
   ],
   "window_display": false
  }
 },
 "nbformat": 4,
 "nbformat_minor": 2
}
