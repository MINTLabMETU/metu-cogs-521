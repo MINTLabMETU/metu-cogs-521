{
 "cells": [
  {
   "cell_type": "markdown",
   "metadata": {},
   "source": [
    "# Tutorial \n",
    "\n",
    "## Part-II\n",
    "\n",
    "In this live session we will **(a)** tokenize the input into words, **(b)** morphologically analyze each instance, **(c)** merge the instances conforming to the scope of the original data points and **(d)** export accordingly. Input will be the output of Part-I (Turkish).\n"
   ]
  },
  {
   "cell_type": "markdown",
   "metadata": {},
   "source": [
    "### * imports"
   ]
  },
  {
   "cell_type": "code",
   "execution_count": 27,
   "metadata": {
    "ExecuteTime": {
     "end_time": "2020-11-04T10:05:32.296044Z",
     "start_time": "2020-11-04T10:05:32.292067Z"
    }
   },
   "outputs": [],
   "source": [
    "import glob\n",
    "from string import punctuation\n",
    "import subprocess"
   ]
  },
  {
   "cell_type": "markdown",
   "metadata": {},
   "source": [
    "### ** globals"
   ]
  },
  {
   "cell_type": "code",
   "execution_count": 28,
   "metadata": {
    "ExecuteTime": {
     "end_time": "2020-11-04T10:05:33.898272Z",
     "start_time": "2020-11-04T10:05:33.894370Z"
    }
   },
   "outputs": [],
   "source": [
    "input_path = \"./in/\"\n",
    "output_path = \"./out/\""
   ]
  },
  {
   "cell_type": "markdown",
   "metadata": {},
   "source": [
    "### *** read input"
   ]
  },
  {
   "cell_type": "code",
   "execution_count": 29,
   "metadata": {
    "ExecuteTime": {
     "end_time": "2020-11-04T10:05:35.399231Z",
     "start_time": "2020-11-04T10:05:35.392155Z"
    }
   },
   "outputs": [],
   "source": [
    "def read_and_store_input(input_path):\n",
    "    # initialize dictionary\n",
    "    data = {}\n",
    "    # read file names from the input directory\n",
    "    input_files = glob.glob(input_path+'*.txt')\n",
    "    for file_path in input_files:\n",
    "        content = open(file_path, 'r')\n",
    "        # create an empty list with a key as the name of the current file\n",
    "        file_name = file_path.split('/')[-1]\n",
    "        data[file_name]=[]\n",
    "        # populate the list with content from file\n",
    "        for line in content:\n",
    "            # check if line has content\n",
    "            if line.strip() != \"\":\n",
    "                data[file_name].append(line.strip())\n",
    "    return data"
   ]
  },
  {
   "cell_type": "code",
   "execution_count": 30,
   "metadata": {
    "ExecuteTime": {
     "end_time": "2020-11-04T10:05:37.663419Z",
     "start_time": "2020-11-04T10:05:37.659098Z"
    }
   },
   "outputs": [],
   "source": [
    "data = read_and_store_input(input_path)"
   ]
  },
  {
   "cell_type": "code",
   "execution_count": 31,
   "metadata": {
    "ExecuteTime": {
     "end_time": "2020-11-04T10:05:39.896226Z",
     "start_time": "2020-11-04T10:05:39.892589Z"
    }
   },
   "outputs": [
    {
     "data": {
      "text/plain": [
       "{'00001131_pp.txt': ['NÜ PERİDE',\n",
       "  'Hakan Akdoğan',\n",
       "  'Roman',\n",
       "  '7',\n",
       "  'Koca duvar taşıyordun yüreğinde kimsenin aşamayacağı, aşmaya cesaret edemeyeceği. Dışa karşı güçlüydü, içe, yüreğine yıkılmak üzereydi. Anılarla örülmüş, acılarla harçlanmış duvara tırmanmak, aşabilmenin ilk şartıydı. Vazgeçmek kolaydı, ertelemek de. Ama tırmanmaya başlandı bitirilmeli! Çünkü seferinde acımasız geriye dönüş vardı. Bıraktığın sefer başlangıca gebeydi. Bir aşsaydım duvarı olacaktın, kucaklayacaktın beni. Kırgınlıkların, korkuların eriyip gidecekti, olacak, geçecekti. Ben kıvranacaktım, acı çekip işkencelere gönüllü katlanacaktım yerine, bilmeden.']}"
      ]
     },
     "execution_count": 31,
     "metadata": {},
     "output_type": "execute_result"
    }
   ],
   "source": [
    "data"
   ]
  },
  {
   "cell_type": "code",
   "execution_count": 13,
   "metadata": {
    "ExecuteTime": {
     "end_time": "2020-11-04T09:19:18.564645Z",
     "start_time": "2020-11-04T09:19:18.560529Z"
    }
   },
   "outputs": [
    {
     "data": {
      "text/plain": [
       "'!\"#$%&\\'()*+,-./:;<=>?@[\\\\]^_`{|}~'"
      ]
     },
     "execution_count": 13,
     "metadata": {},
     "output_type": "execute_result"
    }
   ],
   "source": [
    "punctuation"
   ]
  },
  {
   "cell_type": "code",
   "execution_count": 32,
   "metadata": {
    "ExecuteTime": {
     "end_time": "2020-11-04T10:05:43.002151Z",
     "start_time": "2020-11-04T10:05:42.995002Z"
    }
   },
   "outputs": [],
   "source": [
    "def tokenize(line):\n",
    "    # remove punc.\n",
    "    line = ''.join(ch for ch in line if ch not in punctuation)\n",
    "    # tokenize\n",
    "    words = line.split()\n",
    "    return words\n",
    "\n",
    "def tokenizer(data):\n",
    "    # traverse data\n",
    "    for file, content in data.items():\n",
    "        for index, line in enumerate(content):\n",
    "            words = tokenize(line)\n",
    "            # update, 'NÜ PERİDE' --> ['NÜ', 'PERİDE']\n",
    "            content[index] = words"
   ]
  },
  {
   "cell_type": "code",
   "execution_count": 33,
   "metadata": {
    "ExecuteTime": {
     "end_time": "2020-11-04T10:05:45.009779Z",
     "start_time": "2020-11-04T10:05:45.006131Z"
    }
   },
   "outputs": [],
   "source": [
    "tokenizer(data)"
   ]
  },
  {
   "cell_type": "code",
   "execution_count": 34,
   "metadata": {
    "ExecuteTime": {
     "end_time": "2020-11-04T10:05:46.343279Z",
     "start_time": "2020-11-04T10:05:46.339174Z"
    }
   },
   "outputs": [
    {
     "data": {
      "text/plain": [
       "{'00001131_pp.txt': [['NÜ', 'PERİDE'],\n",
       "  ['Hakan', 'Akdoğan'],\n",
       "  ['Roman'],\n",
       "  ['7'],\n",
       "  ['Koca',\n",
       "   'duvar',\n",
       "   'taşıyordun',\n",
       "   'yüreğinde',\n",
       "   'kimsenin',\n",
       "   'aşamayacağı',\n",
       "   'aşmaya',\n",
       "   'cesaret',\n",
       "   'edemeyeceği',\n",
       "   'Dışa',\n",
       "   'karşı',\n",
       "   'güçlüydü',\n",
       "   'içe',\n",
       "   'yüreğine',\n",
       "   'yıkılmak',\n",
       "   'üzereydi',\n",
       "   'Anılarla',\n",
       "   'örülmüş',\n",
       "   'acılarla',\n",
       "   'harçlanmış',\n",
       "   'duvara',\n",
       "   'tırmanmak',\n",
       "   'aşabilmenin',\n",
       "   'ilk',\n",
       "   'şartıydı',\n",
       "   'Vazgeçmek',\n",
       "   'kolaydı',\n",
       "   'ertelemek',\n",
       "   'de',\n",
       "   'Ama',\n",
       "   'tırmanmaya',\n",
       "   'başlandı',\n",
       "   'bitirilmeli',\n",
       "   'Çünkü',\n",
       "   'seferinde',\n",
       "   'acımasız',\n",
       "   'geriye',\n",
       "   'dönüş',\n",
       "   'vardı',\n",
       "   'Bıraktığın',\n",
       "   'sefer',\n",
       "   'başlangıca',\n",
       "   'gebeydi',\n",
       "   'Bir',\n",
       "   'aşsaydım',\n",
       "   'duvarı',\n",
       "   'olacaktın',\n",
       "   'kucaklayacaktın',\n",
       "   'beni',\n",
       "   'Kırgınlıkların',\n",
       "   'korkuların',\n",
       "   'eriyip',\n",
       "   'gidecekti',\n",
       "   'olacak',\n",
       "   'geçecekti',\n",
       "   'Ben',\n",
       "   'kıvranacaktım',\n",
       "   'acı',\n",
       "   'çekip',\n",
       "   'işkencelere',\n",
       "   'gönüllü',\n",
       "   'katlanacaktım',\n",
       "   'yerine',\n",
       "   'bilmeden']]}"
      ]
     },
     "execution_count": 34,
     "metadata": {},
     "output_type": "execute_result"
    }
   ],
   "source": [
    "data"
   ]
  },
  {
   "cell_type": "code",
   "execution_count": 35,
   "metadata": {
    "ExecuteTime": {
     "end_time": "2020-11-04T10:05:49.584050Z",
     "start_time": "2020-11-04T10:05:49.575665Z"
    }
   },
   "outputs": [],
   "source": [
    "def analyzer(word):\n",
    "    command = \"bazel run -c opt scripts:print_analyses -- --word=%s\" %(word)\n",
    "    directory = \"/home/gorgo/Tools/turkish-morphology-master/\"\n",
    "    analysis = subprocess.run(command.split(), capture_output=True, cwd=directory).stdout.decode().split('\\n')[1:3]\n",
    "    return analysis\n",
    "\n",
    "def analyze(data):\n",
    "    # traverse data\n",
    "    for file, content in data.items():\n",
    "        for line in content:\n",
    "            for index, word in enumerate(line):\n",
    "                print(\"SURFACE_FORM: %s\" %(word))\n",
    "                analyses = analyzer(word)\n",
    "                if not analyses:\n",
    "                    analyses = \"%s[NON_WORD]\" %(word) # '$imdi' --> '' --> '$imdi[NON_WORD]'\n",
    "                print(\"ANALYSIS_1: %s\" %(analyses[0]))\n",
    "                print(\"ANALYSIS_2: %s\\n\" %(analyses[1]))\n",
    "                # update\n",
    "                line[index] = analyses"
   ]
  },
  {
   "cell_type": "code",
   "execution_count": 36,
   "metadata": {
    "ExecuteTime": {
     "end_time": "2020-11-04T10:06:44.063957Z",
     "start_time": "2020-11-04T10:05:52.764203Z"
    }
   },
   "outputs": [
    {
     "name": "stdout",
     "output_type": "stream",
     "text": [
      "SURFACE_FORM: NÜ\n",
      "ANALYSIS_1: (nü[JJ])+[Proper=False]\n",
      "ANALYSIS_2: (nü[JJ])+[Proper=True]\n",
      "\n",
      "SURFACE_FORM: PERİDE\n",
      "ANALYSIS_1: (Peri[NNP]+[PersonNumber=A3sg]+[Possessive=Pnon]+DA[Case=Loc])+[Proper=True]\n",
      "ANALYSIS_2: (Peride[NNP]+[PersonNumber=A3sg]+[Possessive=Pnon]+[Case=Bare])+[Proper=True]\n",
      "\n",
      "SURFACE_FORM: Hakan\n",
      "ANALYSIS_1: (Hakan[NNP]+[PersonNumber=A3sg]+[Possessive=Pnon]+[Case=Bare])+[Proper=True]\n",
      "ANALYSIS_2: (Hakan[NNP]+[PersonNumber=A3sg]+[Possessive=Pnon]+[Case=Nom])+[Proper=True]\n",
      "\n",
      "SURFACE_FORM: Akdoğan\n",
      "ANALYSIS_1: (Akdoğan[NNP]+[PersonNumber=A3sg]+[Possessive=Pnon]+[Case=Bare])+[Proper=True]\n",
      "ANALYSIS_2: (Akdoğan[NNP]+[PersonNumber=A3sg]+[Possessive=Pnon]+[Case=Nom])+[Proper=True]\n",
      "\n",
      "SURFACE_FORM: Roman\n",
      "ANALYSIS_1: (Roma[NNP]+[PersonNumber=A3sg]+Hn[Possessive=P2sg]+[Case=Bare])+[Proper=True]\n",
      "ANALYSIS_2: (Roma[NNP]+[PersonNumber=A3sg]+Hn[Possessive=P2sg]+[Case=Nom])+[Proper=True]\n",
      "\n",
      "SURFACE_FORM: 7\n",
      "ANALYSIS_1: (7[CD])+[Proper=False]\n",
      "ANALYSIS_2: (7[CD])+[Proper=True]\n",
      "\n",
      "SURFACE_FORM: Koca\n",
      "ANALYSIS_1: (Koca[NNP]+[PersonNumber=A3sg]+[Possessive=Pnon]+[Case=Bare])+[Proper=True]\n",
      "ANALYSIS_2: (Koca[NNP]+[PersonNumber=A3sg]+[Possessive=Pnon]+[Case=Nom])+[Proper=True]\n",
      "\n",
      "SURFACE_FORM: duvar\n",
      "ANALYSIS_1: (duvar[NN]+[PersonNumber=A3sg]+[Possessive=Pnon]+[Case=Bare])+[Proper=False]\n",
      "ANALYSIS_2: (duvar[NN]+[PersonNumber=A3sg]+[Possessive=Pnon]+[Case=Bare])+[Proper=True]\n",
      "\n",
      "SURFACE_FORM: taşıyordun\n",
      "ANALYSIS_1: (taş[VB]+[Polarity=Pos]+Hyor[TenseAspectMood=Prog1]+YDH[Copula=PastCop]+n[PersonNumber=V2sg])+[Proper=False]\n",
      "ANALYSIS_2: (taş[VB]+[Polarity=Pos]+Hyor[TenseAspectMood=Prog1]+YDH[Copula=PastCop]+n[PersonNumber=V2sg])+[Proper=True]\n",
      "\n",
      "SURFACE_FORM: yüreğinde\n",
      "ANALYSIS_1: (yürek[NN]+[PersonNumber=A3sg]+Hn[Possessive=P2sg]+NDA[Case=Loc])+[Proper=False]\n",
      "ANALYSIS_2: (yürek[NN]+[PersonNumber=A3sg]+Hn[Possessive=P2sg]+NDA[Case=Loc])+[Proper=True]\n",
      "\n",
      "SURFACE_FORM: kimsenin\n",
      "ANALYSIS_1: (kimse[NOMP]+[PersonNumber=A3sg]+Hn[Possessive=P2sg]+NHn[Case=Gen]+[Copula=PresCop]+[PersonNumber=V3pl])+[Proper=False]\n",
      "ANALYSIS_2: (kimse[NOMP]+[PersonNumber=A3sg]+Hn[Possessive=P2sg]+NHn[Case=Gen]+[Copula=PresCop]+[PersonNumber=V3pl])+[Proper=True]\n",
      "\n",
      "SURFACE_FORM: aşamayacağı\n",
      "ANALYSIS_1: (aş[VB])([VB]-YA[Derivation=Able]+mA[Polarity=Neg])([NOMP]-YAcAk[Derivation=FutNom]+[PersonNumber=A3sg]+SH[Possessive=P3sg]+[Case=Bare]+[Copula=PresCop]+[PersonNumber=V3pl])+[Proper=False]\n",
      "ANALYSIS_2: (aş[VB])([VB]-YA[Derivation=Able]+mA[Polarity=Neg])([NOMP]-YAcAk[Derivation=FutNom]+[PersonNumber=A3sg]+SH[Possessive=P3sg]+[Case=Bare]+[Copula=PresCop]+[PersonNumber=V3pl])+[Proper=True]\n",
      "\n",
      "SURFACE_FORM: aşmaya\n",
      "ANALYSIS_1: (aş[VB]+[Polarity=Pos])([NOMP]-mA[Derivation=Nonf]+[PersonNumber=A3sg]+[Possessive=Pnon]+YA[Case=Dat]+[Copula=PresCop]+[PersonNumber=V3pl])+[Proper=False]\n",
      "ANALYSIS_2: (aş[VB]+[Polarity=Pos])([NOMP]-mA[Derivation=Nonf]+[PersonNumber=A3sg]+[Possessive=Pnon]+YA[Case=Dat]+[Copula=PresCop]+[PersonNumber=V3pl])+[Proper=True]\n",
      "\n",
      "SURFACE_FORM: cesaret\n",
      "ANALYSIS_1: (Cesaret[NNP]+[PersonNumber=A3sg]+[Possessive=Pnon]+[Case=Bare])+[Proper=True]\n",
      "ANALYSIS_2: (Cesaret[NNP]+[PersonNumber=A3sg]+[Possessive=Pnon]+[Case=Nom])+[Proper=True]\n",
      "\n",
      "SURFACE_FORM: edemeyeceği\n",
      "ANALYSIS_1: (et[VB])([VB]-YA[Derivation=Able]+mA[Polarity=Neg])([NOMP]-YAcAk[Derivation=FutNom]+[PersonNumber=A3sg]+SH[Possessive=P3sg]+[Case=Bare]+[Copula=PresCop]+[PersonNumber=V3pl])+[Proper=False]\n",
      "ANALYSIS_2: (et[VB])([VB]-YA[Derivation=Able]+mA[Polarity=Neg])([NOMP]-YAcAk[Derivation=FutNom]+[PersonNumber=A3sg]+SH[Possessive=P3sg]+[Case=Bare]+[Copula=PresCop]+[PersonNumber=V3pl])+[Proper=True]\n",
      "\n",
      "SURFACE_FORM: Dışa\n",
      "ANALYSIS_1: (dış[IN]+[ComplementType=CBare]+[Possessive=Pnon]+YA[Case=Dat])+[Proper=False]\n",
      "ANALYSIS_2: (dış[IN]+[ComplementType=CBare]+[Possessive=Pnon]+YA[Case=Dat])+[Proper=True]\n",
      "\n",
      "SURFACE_FORM: karşı\n",
      "ANALYSIS_1: (karşı[IN]+[ComplementType=CBare]+[Possessive=Pnon]+[Case=Bare])+[Proper=False]\n",
      "ANALYSIS_2: (karşı[IN]+[ComplementType=CBare]+[Possessive=Pnon]+[Case=Bare])+[Proper=True]\n",
      "\n",
      "SURFACE_FORM: güçlüydü\n",
      "ANALYSIS_1: (Güç[NNP]+[PersonNumber=A3sg]+[Possessive=Pnon]+[Case=Bare])([NOMP]-lH[Derivation=From]+[PersonNumber=A3sg]+[Possessive=Pnon]+[Case=Bare]+YDH[Copula=PastCop]+[PersonNumber=V3pl])+[Proper=False]\n",
      "ANALYSIS_2: (Güç[NNP]+[PersonNumber=A3sg]+[Possessive=Pnon]+[Case=Bare])([NOMP]-lH[Derivation=From]+[PersonNumber=A3sg]+[Possessive=Pnon]+[Case=Bare]+YDH[Copula=PastCop]+[PersonNumber=V3pl])+[Proper=True]\n",
      "\n",
      "SURFACE_FORM: içe\n",
      "ANALYSIS_1: (iç[NN]+[PersonNumber=A3sg]+[Possessive=Pnon]+YA[Case=Dat])+[Proper=False]\n",
      "ANALYSIS_2: (iç[NN]+[PersonNumber=A3sg]+[Possessive=Pnon]+YA[Case=Dat])+[Proper=True]\n",
      "\n",
      "SURFACE_FORM: yüreğine\n",
      "ANALYSIS_1: (yürek[NN]+[PersonNumber=A3sg]+Hn[Possessive=P2sg]+NA[Case=Dat])+[Proper=False]\n",
      "ANALYSIS_2: (yürek[NN]+[PersonNumber=A3sg]+Hn[Possessive=P2sg]+NA[Case=Dat])+[Proper=True]\n",
      "\n",
      "SURFACE_FORM: yıkılmak\n",
      "ANALYSIS_1: (yık[VB])([VB]-Hl[Derivation=Pass]+[Polarity=Pos])([NOMP]-mAk[Derivation=Inf]+[PersonNumber=A3sg]+[Possessive=Pnon]+[Case=Bare]+[Copula=PresCop]+[PersonNumber=V3pl])+[Proper=False]\n",
      "ANALYSIS_2: (yık[VB])([VB]-Hl[Derivation=Pass]+[Polarity=Pos])([NOMP]-mAk[Derivation=Inf]+[PersonNumber=A3sg]+[Possessive=Pnon]+[Case=Bare]+[Copula=PresCop]+[PersonNumber=V3pl])+[Proper=True]\n",
      "\n",
      "SURFACE_FORM: üzereydi\n",
      "ANALYSIS_1: (üz[VB]+[Polarity=Pos])([NOMP]-Ar[Derivation=AorNom]+[PersonNumber=A3sg]+[Possessive=Pnon]+YA[Case=Dat]+YDH[Copula=PastCop]+[PersonNumber=V3pl])+[Proper=False]\n",
      "ANALYSIS_2: (üz[VB]+[Polarity=Pos])([NOMP]-Ar[Derivation=AorNom]+[PersonNumber=A3sg]+[Possessive=Pnon]+YA[Case=Dat]+YDH[Copula=PastCop]+[PersonNumber=V3pl])+[Proper=True]\n",
      "\n",
      "SURFACE_FORM: Anılarla\n",
      "ANALYSIS_1: (Anı[NNP]+[PersonNumber=A3sg]+[Possessive=Pnon]+[Case=Bare])([NN]-lAr[Derivation=Fam]+[PersonNumber=A3sg]+[Possessive=Pnon]+YlA[Case=Ins])+[Proper=False]\n",
      "ANALYSIS_2: (Anı[NNP]+[PersonNumber=A3sg]+[Possessive=Pnon]+[Case=Bare])([NN]-lAr[Derivation=Fam]+[PersonNumber=A3sg]+[Possessive=Pnon]+YlA[Case=Ins])+[Proper=True]\n",
      "\n",
      "SURFACE_FORM: örülmüş\n",
      "ANALYSIS_1: (ör[VB])([VB]-Hl[Derivation=Pass]+[Polarity=Pos])([NOMP]-mHş[Derivation=PerNom]+[PersonNumber=A3sg]+[Possessive=Pnon]+[Case=Bare]+[Copula=PresCop]+[PersonNumber=V3pl])+[Proper=False]\n",
      "ANALYSIS_2: (ör[VB])([VB]-Hl[Derivation=Pass]+[Polarity=Pos])([NOMP]-mHş[Derivation=PerNom]+[PersonNumber=A3sg]+[Possessive=Pnon]+[Case=Bare]+[Copula=PresCop]+[PersonNumber=V3pl])+[Proper=True]\n",
      "\n",
      "SURFACE_FORM: acılarla\n",
      "ANALYSIS_1: (a[NN]+[PersonNumber=A3sg]+[Possessive=Pnon]+[Case=Bare])([NN]-CH[Derivation=Agt]+[PersonNumber=A3sg]+[Possessive=Pnon]+[Case=Bare])([VB]-lA[Derivation=Make]+[Polarity=Pos])([NOMP]-Hr[Derivation=AorNom]+[PersonNumber=A3sg]+[Possessive=Pnon]+YlA[Case=Ins]+[Copula=PresCop]+[PersonNumber=V3pl])+[Proper=False]\n",
      "ANALYSIS_2: (a[NN]+[PersonNumber=A3sg]+[Possessive=Pnon]+[Case=Bare])([NN]-CH[Derivation=Agt]+[PersonNumber=A3sg]+[Possessive=Pnon]+[Case=Bare])([VB]-lA[Derivation=Make]+[Polarity=Pos])([NOMP]-Hr[Derivation=AorNom]+[PersonNumber=A3sg]+[Possessive=Pnon]+YlA[Case=Ins]+[Copula=PresCop]+[PersonNumber=V3pl])+[Proper=True]\n",
      "\n",
      "SURFACE_FORM: harçlanmış\n",
      "ANALYSIS_1: (harç[NN]+[PersonNumber=A3sg]+[Possessive=Pnon]+[Case=Bare])([VB]-lA[Derivation=Make])([VB]-Hn[Derivation=Pass]+[Polarity=Pos])([NOMP]-mHş[Derivation=PerNom]+[PersonNumber=A3sg]+[Possessive=Pnon]+[Case=Bare]+[Copula=PresCop]+[PersonNumber=V3pl])+[Proper=False]\n",
      "ANALYSIS_2: (harç[NN]+[PersonNumber=A3sg]+[Possessive=Pnon]+[Case=Bare])([VB]-lA[Derivation=Make])([VB]-Hn[Derivation=Pass]+[Polarity=Pos])([NOMP]-mHş[Derivation=PerNom]+[PersonNumber=A3sg]+[Possessive=Pnon]+[Case=Bare]+[Copula=PresCop]+[PersonNumber=V3pl])+[Proper=True]\n",
      "\n",
      "SURFACE_FORM: duvara\n",
      "ANALYSIS_1: (duvar[NN]+[PersonNumber=A3sg]+[Possessive=Pnon]+YA[Case=Dat])+[Proper=False]\n",
      "ANALYSIS_2: (duvar[NN]+[PersonNumber=A3sg]+[Possessive=Pnon]+YA[Case=Dat])+[Proper=True]\n",
      "\n",
      "SURFACE_FORM: tırmanmak\n",
      "ANALYSIS_1: (tırman[VB]+[Polarity=Pos])([NOMP]-mAk[Derivation=Inf]+[PersonNumber=A3sg]+[Possessive=Pnon]+[Case=Bare]+[Copula=PresCop]+[PersonNumber=V3pl])+[Proper=False]\n",
      "ANALYSIS_2: (tırman[VB]+[Polarity=Pos])([NOMP]-mAk[Derivation=Inf]+[PersonNumber=A3sg]+[Possessive=Pnon]+[Case=Bare]+[Copula=PresCop]+[PersonNumber=V3pl])+[Proper=True]\n",
      "\n",
      "SURFACE_FORM: aşabilmenin\n",
      "ANALYSIS_1: (aş[VB]+[Polarity=Pos])([VB]-YAbil[Derivation=Able]+[Polarity=Pos])([NOMP]-mA[Derivation=Nonf]+[PersonNumber=A3sg]+Hn[Possessive=P2sg]+NHn[Case=Gen]+[Copula=PresCop]+[PersonNumber=V3pl])+[Proper=False]\n",
      "ANALYSIS_2: (aş[VB]+[Polarity=Pos])([VB]-YAbil[Derivation=Able]+[Polarity=Pos])([NOMP]-mA[Derivation=Nonf]+[PersonNumber=A3sg]+Hn[Possessive=P2sg]+NHn[Case=Gen]+[Copula=PresCop]+[PersonNumber=V3pl])+[Proper=True]\n",
      "\n",
      "SURFACE_FORM: ilk\n"
     ]
    },
    {
     "name": "stdout",
     "output_type": "stream",
     "text": [
      "ANALYSIS_1: (ilk[JJ])+[Proper=False]\n",
      "ANALYSIS_2: (ilk[JJ])+[Proper=True]\n",
      "\n",
      "SURFACE_FORM: şartıydı\n",
      "ANALYSIS_1: (şart[NOMP]+[PersonNumber=A3sg]+SH[Possessive=P3sg]+[Case=Bare]+YDH[Copula=PastCop]+[PersonNumber=V3pl])+[Proper=False]\n",
      "ANALYSIS_2: (şart[NOMP]+[PersonNumber=A3sg]+SH[Possessive=P3sg]+[Case=Bare]+YDH[Copula=PastCop]+[PersonNumber=V3pl])+[Proper=True]\n",
      "\n",
      "SURFACE_FORM: Vazgeçmek\n",
      "ANALYSIS_1: (vazgeç[VB]+[Polarity=Pos])([NOMP]-mAk[Derivation=Inf]+[PersonNumber=A3sg]+[Possessive=Pnon]+[Case=Bare]+[Copula=PresCop]+[PersonNumber=V3pl])+[Proper=False]\n",
      "ANALYSIS_2: (vazgeç[VB]+[Polarity=Pos])([NOMP]-mAk[Derivation=Inf]+[PersonNumber=A3sg]+[Possessive=Pnon]+[Case=Bare]+[Copula=PresCop]+[PersonNumber=V3pl])+[Proper=True]\n",
      "\n",
      "SURFACE_FORM: kolaydı\n",
      "ANALYSIS_1: (kol[NOMP]+[PersonNumber=A3sg]+[Possessive=Pnon]+YA[Case=Dat]+YDH[Copula=PastCop]+[PersonNumber=V3pl])+[Proper=False]\n",
      "ANALYSIS_2: (kol[NOMP]+[PersonNumber=A3sg]+[Possessive=Pnon]+YA[Case=Dat]+YDH[Copula=PastCop]+[PersonNumber=V3pl])+[Proper=True]\n",
      "\n",
      "SURFACE_FORM: ertelemek\n",
      "ANALYSIS_1: (Erte[NNP]+[PersonNumber=A3sg]+[Possessive=Pnon]+[Case=Bare])([VB]-lA[Derivation=Make]+[Polarity=Pos])([NOMP]-mAk[Derivation=Inf]+[PersonNumber=A3sg]+[Possessive=Pnon]+[Case=Bare]+[Copula=PresCop]+[PersonNumber=V3pl])+[Proper=False]\n",
      "ANALYSIS_2: (Erte[NNP]+[PersonNumber=A3sg]+[Possessive=Pnon]+[Case=Bare])([VB]-lA[Derivation=Make]+[Polarity=Pos])([NOMP]-mAk[Derivation=Inf]+[PersonNumber=A3sg]+[Possessive=Pnon]+[Case=Bare]+[Copula=PresCop]+[PersonNumber=V3pl])+[Proper=True]\n",
      "\n",
      "SURFACE_FORM: de\n",
      "ANALYSIS_1: (de[CC]+[ConjunctionType=Adv])+[Proper=False]\n",
      "ANALYSIS_2: (de[CC]+[ConjunctionType=Adv])+[Proper=True]\n",
      "\n",
      "SURFACE_FORM: Ama\n",
      "ANALYSIS_1: (a[NN]+[PersonNumber=A3sg]+Hm[Possessive=P1sg]+NA[Case=Dat])+[Proper=False]\n",
      "ANALYSIS_2: (a[NN]+[PersonNumber=A3sg]+Hm[Possessive=P1sg]+NA[Case=Dat])+[Proper=True]\n",
      "\n",
      "SURFACE_FORM: tırmanmaya\n",
      "ANALYSIS_1: (tırman[VB]+[Polarity=Pos])([NOMP]-mA[Derivation=Nonf]+[PersonNumber=A3sg]+[Possessive=Pnon]+YA[Case=Dat]+[Copula=PresCop]+[PersonNumber=V3pl])+[Proper=False]\n",
      "ANALYSIS_2: (tırman[VB]+[Polarity=Pos])([NOMP]-mA[Derivation=Nonf]+[PersonNumber=A3sg]+[Possessive=Pnon]+YA[Case=Dat]+[Copula=PresCop]+[PersonNumber=V3pl])+[Proper=True]\n",
      "\n",
      "SURFACE_FORM: başlandı\n",
      "ANALYSIS_1: (baş[NN]+[PersonNumber=A3sg]+[Possessive=Pnon]+[Case=Bare])([VB]-lA[Derivation=Make])([VB]-Hn[Derivation=Pass]+[Polarity=Pos]+DH[TenseAspectMood=Past]+[Copula=PresCop]+[PersonNumber=V3pl])+[Proper=False]\n",
      "ANALYSIS_2: (baş[NN]+[PersonNumber=A3sg]+[Possessive=Pnon]+[Case=Bare])([VB]-lA[Derivation=Make])([VB]-Hn[Derivation=Pass]+[Polarity=Pos]+DH[TenseAspectMood=Past]+[Copula=PresCop]+[PersonNumber=V3pl])+[Proper=True]\n",
      "\n",
      "SURFACE_FORM: bitirilmeli\n",
      "ANALYSIS_1: (bit[VB])([VB]-Hr[Derivation=Cau])([VB]-Hl[Derivation=Pass]+[Polarity=Pos])([VN]-mA[Derivation=Nonf]+[PersonNumber=A3sg]+[Possessive=Pnon]+[Case=Bare])([JJ]-lH[Derivation=With])+[Proper=False]\n",
      "ANALYSIS_2: (bit[VB])([VB]-Hr[Derivation=Cau])([VB]-Hl[Derivation=Pass]+[Polarity=Pos])([VN]-mA[Derivation=Nonf]+[PersonNumber=A3sg]+[Possessive=Pnon]+[Case=Bare])([JJ]-lH[Derivation=With])+[Proper=True]\n",
      "\n",
      "SURFACE_FORM: Çünkü\n",
      "ANALYSIS_1: (çünkü[CC]+[ConjunctionType=Coor])+[Proper=False]\n",
      "ANALYSIS_2: (çünkü[CC]+[ConjunctionType=Coor])+[Proper=True]\n",
      "\n",
      "SURFACE_FORM: seferinde\n",
      "ANALYSIS_1: (Sefer[NNP]+[PersonNumber=A3sg]+Hn[Possessive=P2sg]+NDA[Case=Loc])+[Proper=True]\n",
      "ANALYSIS_2: (Sefer[NNP]+[PersonNumber=A3sg]+SH[Possessive=P3sg]+NDA[Case=Loc])+[Proper=True]\n",
      "\n",
      "SURFACE_FORM: acımasız\n",
      "ANALYSIS_1: (acı[VB]+[Polarity=Pos])([VN]-mA[Derivation=Nonf]+[PersonNumber=A3sg]+[Possessive=Pnon]+[Case=Bare])([JJ]-sHz[Derivation=Wout])+[Proper=False]\n",
      "ANALYSIS_2: (acı[VB]+[Polarity=Pos])([VN]-mA[Derivation=Nonf]+[PersonNumber=A3sg]+[Possessive=Pnon]+[Case=Bare])([JJ]-sHz[Derivation=Wout])+[Proper=True]\n",
      "\n",
      "SURFACE_FORM: geriye\n",
      "ANALYSIS_1: (geri[NN]+[PersonNumber=A3sg]+[Possessive=Pnon]+YA[Case=Dat])+[Proper=False]\n",
      "ANALYSIS_2: (geri[NN]+[PersonNumber=A3sg]+[Possessive=Pnon]+YA[Case=Dat])+[Proper=True]\n",
      "\n",
      "SURFACE_FORM: dönüş\n",
      "ANALYSIS_1: (Dönüş[NNP]+[PersonNumber=A3sg]+[Possessive=Pnon]+[Case=Bare])+[Proper=True]\n",
      "ANALYSIS_2: (Dönüş[NNP]+[PersonNumber=A3sg]+[Possessive=Pnon]+[Case=Nom])+[Proper=True]\n",
      "\n",
      "SURFACE_FORM: vardı\n",
      "ANALYSIS_1: (var[NOMP]+[PersonNumber=A3sg]+[Possessive=Pnon]+[Case=Bare]+YDH[Copula=PastCop]+[PersonNumber=V3pl])+[Proper=False]\n",
      "ANALYSIS_2: (var[NOMP]+[PersonNumber=A3sg]+[Possessive=Pnon]+[Case=Bare]+YDH[Copula=PastCop]+[PersonNumber=V3pl])+[Proper=True]\n",
      "\n",
      "SURFACE_FORM: Bıraktığın\n",
      "ANALYSIS_1: (bırak[VB]+[Polarity=Pos])([NOMP]-DHk[Derivation=PastNom]+[PersonNumber=A3sg]+Hn[Possessive=P2sg]+[Case=Bare]+[Copula=PresCop]+[PersonNumber=V3pl])+[Proper=False]\n",
      "ANALYSIS_2: (bırak[VB]+[Polarity=Pos])([NOMP]-DHk[Derivation=PastNom]+[PersonNumber=A3sg]+Hn[Possessive=P2sg]+[Case=Bare]+[Copula=PresCop]+[PersonNumber=V3pl])+[Proper=True]\n",
      "\n",
      "SURFACE_FORM: sefer\n",
      "ANALYSIS_1: (Sefer[NNP]+[PersonNumber=A3sg]+[Possessive=Pnon]+[Case=Bare])+[Proper=True]\n",
      "ANALYSIS_2: (Sefer[NNP]+[PersonNumber=A3sg]+[Possessive=Pnon]+[Case=Nom])+[Proper=True]\n",
      "\n",
      "SURFACE_FORM: başlangıca\n",
      "ANALYSIS_1: (başlangıç[NN]+[PersonNumber=A3sg]+[Possessive=Pnon]+YA[Case=Dat])+[Proper=False]\n",
      "ANALYSIS_2: (başlangıç[NN]+[PersonNumber=A3sg]+[Possessive=Pnon]+YA[Case=Dat])+[Proper=True]\n",
      "\n",
      "SURFACE_FORM: gebeydi\n",
      "ANALYSIS_1: (gebe[NOMP]+[PersonNumber=A3sg]+[Possessive=Pnon]+[Case=Bare]+YDH[Copula=PastCop]+[PersonNumber=V3pl])+[Proper=False]\n",
      "ANALYSIS_2: (gebe[NOMP]+[PersonNumber=A3sg]+[Possessive=Pnon]+[Case=Bare]+YDH[Copula=PastCop]+[PersonNumber=V3pl])+[Proper=True]\n",
      "\n",
      "SURFACE_FORM: Bir\n",
      "ANALYSIS_1: (bir[CC]+[ConjunctionType=Adv])+[Proper=False]\n",
      "ANALYSIS_2: (bir[CC]+[ConjunctionType=Adv])+[Proper=True]\n",
      "\n",
      "SURFACE_FORM: aşsaydım\n",
      "ANALYSIS_1: (aş[NOMP]+[PersonNumber=A3sg]+[Possessive=Pnon]+[Case=Bare]+YsA[Copula=CndCop]+YDH[Copula=PastCop]+m[PersonNumber=V1sg])+[Proper=False]\n",
      "ANALYSIS_2: (aş[NOMP]+[PersonNumber=A3sg]+[Possessive=Pnon]+[Case=Bare]+YsA[Copula=CndCop]+YDH[Copula=PastCop]+m[PersonNumber=V1sg])+[Proper=True]\n",
      "\n",
      "SURFACE_FORM: duvarı\n",
      "ANALYSIS_1: (duvar[NN]+[PersonNumber=A3sg]+SH[Possessive=P3sg]+[Case=Bare])+[Proper=False]\n",
      "ANALYSIS_2: (duvar[NN]+[PersonNumber=A3sg]+SH[Possessive=P3sg]+[Case=Bare])+[Proper=True]\n",
      "\n",
      "SURFACE_FORM: olacaktın\n",
      "ANALYSIS_1: (ol[VB]+[Polarity=Pos]+YAcAk[TenseAspectMood=Fut]+YDH[Copula=PastCop]+n[PersonNumber=V2sg])+[Proper=False]\n",
      "ANALYSIS_2: (ol[VB]+[Polarity=Pos]+YAcAk[TenseAspectMood=Fut]+YDH[Copula=PastCop]+n[PersonNumber=V2sg])+[Proper=True]\n",
      "\n",
      "SURFACE_FORM: kucaklayacaktın\n",
      "ANALYSIS_1: (kucak[NN]+[PersonNumber=A3sg]+[Possessive=Pnon]+[Case=Bare])([VB]-lA[Derivation=Make]+[Polarity=Pos]+YAcAk[TenseAspectMood=Fut]+YDH[Copula=PastCop]+n[PersonNumber=V2sg])+[Proper=False]\n",
      "ANALYSIS_2: (kucak[NN]+[PersonNumber=A3sg]+[Possessive=Pnon]+[Case=Bare])([VB]-lA[Derivation=Make]+[Polarity=Pos]+YAcAk[TenseAspectMood=Fut]+YDH[Copula=PastCop]+n[PersonNumber=V2sg])+[Proper=True]\n",
      "\n",
      "SURFACE_FORM: beni\n",
      "ANALYSIS_1: (ben[NN]+[PersonNumber=A3sg]+SH[Possessive=P3sg]+[Case=Bare])+[Proper=False]\n",
      "ANALYSIS_2: (ben[NN]+[PersonNumber=A3sg]+SH[Possessive=P3sg]+[Case=Bare])+[Proper=True]\n",
      "\n",
      "SURFACE_FORM: Kırgınlıkların\n",
      "ANALYSIS_1: (kırgın[NN]+[PersonNumber=A3sg]+[Possessive=Pnon]+[Case=Bare])([NN]-lHk[Derivation=For]+[PersonNumber=A3sg]+[Possessive=Pnon]+[Case=Bare])([VB]-lA[Derivation=Make]+[Polarity=Pos])([NOMP]-Hr[Derivation=AorNom]+[PersonNumber=A3sg]+Hn[Possessive=P2sg]+[Case=Bare]+[Copula=PresCop]+[PersonNumber=V3pl])+[Proper=False]\n",
      "ANALYSIS_2: (kırgın[NN]+[PersonNumber=A3sg]+[Possessive=Pnon]+[Case=Bare])([NN]-lHk[Derivation=For]+[PersonNumber=A3sg]+[Possessive=Pnon]+[Case=Bare])([VB]-lA[Derivation=Make]+[Polarity=Pos])([NOMP]-Hr[Derivation=AorNom]+[PersonNumber=A3sg]+Hn[Possessive=P2sg]+[Case=Bare]+[Copula=PresCop]+[PersonNumber=V3pl])+[Proper=True]\n",
      "\n",
      "SURFACE_FORM: korkuların\n",
      "ANALYSIS_1: (korku[NN]+[PersonNumber=A3sg]+[Possessive=Pnon]+[Case=Bare])([VB]-lA[Derivation=Make]+[Polarity=Pos])([NOMP]-Hr[Derivation=AorNom]+[PersonNumber=A3sg]+Hn[Possessive=P2sg]+[Case=Bare]+[Copula=PresCop]+[PersonNumber=V3pl])+[Proper=False]\n",
      "ANALYSIS_2: (korku[NN]+[PersonNumber=A3sg]+[Possessive=Pnon]+[Case=Bare])([VB]-lA[Derivation=Make]+[Polarity=Pos])([NOMP]-Hr[Derivation=AorNom]+[PersonNumber=A3sg]+Hn[Possessive=P2sg]+[Case=Bare]+[Copula=PresCop]+[PersonNumber=V3pl])+[Proper=True]\n",
      "\n",
      "SURFACE_FORM: eriyip\n"
     ]
    },
    {
     "name": "stdout",
     "output_type": "stream",
     "text": [
      "ANALYSIS_1: (eri[VB]+[Polarity=Pos])([CRB]-YHp[Derivation=After])+[Proper=False]\n",
      "ANALYSIS_2: (eri[VB]+[Polarity=Pos])([CRB]-YHp[Derivation=After])+[Proper=True]\n",
      "\n",
      "SURFACE_FORM: gidecekti\n",
      "ANALYSIS_1: (git[VB]+[Polarity=Pos])([NOMP]-YAcAk[Derivation=FutNom]+[PersonNumber=A3sg]+[Possessive=Pnon]+[Case=Bare]+YDH[Copula=PastCop]+[PersonNumber=V3pl])+[Proper=False]\n",
      "ANALYSIS_2: (git[VB]+[Polarity=Pos])([NOMP]-YAcAk[Derivation=FutNom]+[PersonNumber=A3sg]+[Possessive=Pnon]+[Case=Bare]+YDH[Copula=PastCop]+[PersonNumber=V3pl])+[Proper=True]\n",
      "\n",
      "SURFACE_FORM: olacak\n",
      "ANALYSIS_1: (ol[VB]+[Polarity=Pos])([NOMP]-YAcAk[Derivation=FutNom]+[PersonNumber=A3sg]+[Possessive=Pnon]+[Case=Bare]+[Copula=PresCop]+[PersonNumber=V3pl])+[Proper=False]\n",
      "ANALYSIS_2: (ol[VB]+[Polarity=Pos])([NOMP]-YAcAk[Derivation=FutNom]+[PersonNumber=A3sg]+[Possessive=Pnon]+[Case=Bare]+[Copula=PresCop]+[PersonNumber=V3pl])+[Proper=True]\n",
      "\n",
      "SURFACE_FORM: geçecekti\n",
      "ANALYSIS_1: (geç[VB]+[Polarity=Pos])([NOMP]-YAcAk[Derivation=FutNom]+[PersonNumber=A3sg]+[Possessive=Pnon]+[Case=Bare]+YDH[Copula=PastCop]+[PersonNumber=V3pl])+[Proper=False]\n",
      "ANALYSIS_2: (geç[VB]+[Polarity=Pos])([NOMP]-YAcAk[Derivation=FutNom]+[PersonNumber=A3sg]+[Possessive=Pnon]+[Case=Bare]+YDH[Copula=PastCop]+[PersonNumber=V3pl])+[Proper=True]\n",
      "\n",
      "SURFACE_FORM: Ben\n",
      "ANALYSIS_1: (ben[NN]+[PersonNumber=A3sg]+[Possessive=Pnon]+[Case=Bare])+[Proper=False]\n",
      "ANALYSIS_2: (ben[NN]+[PersonNumber=A3sg]+[Possessive=Pnon]+[Case=Bare])+[Proper=True]\n",
      "\n",
      "SURFACE_FORM: kıvranacaktım\n",
      "ANALYSIS_1: (kıvra[VB])([VB]-Hn[Derivation=Pass]+[Polarity=Pos])([NOMP]-YAcAk[Derivation=FutNom]+[PersonNumber=A3sg]+[Possessive=Pnon]+[Case=Bare]+YDH[Copula=PastCop]+m[PersonNumber=V1sg])+[Proper=False]\n",
      "ANALYSIS_2: (kıvra[VB])([VB]-Hn[Derivation=Pass]+[Polarity=Pos])([NOMP]-YAcAk[Derivation=FutNom]+[PersonNumber=A3sg]+[Possessive=Pnon]+[Case=Bare]+YDH[Copula=PastCop]+m[PersonNumber=V1sg])+[Proper=True]\n",
      "\n",
      "SURFACE_FORM: acı\n",
      "ANALYSIS_1: (a[NN]+[PersonNumber=A3sg]+[Possessive=Pnon]+[Case=Bare])([JJ]-CH[Derivation=Agt])+[Proper=False]\n",
      "ANALYSIS_2: (a[NN]+[PersonNumber=A3sg]+[Possessive=Pnon]+[Case=Bare])([JJ]-CH[Derivation=Agt])+[Proper=True]\n",
      "\n",
      "SURFACE_FORM: çekip\n",
      "ANALYSIS_1: (çek[VB]+[Polarity=Pos])([CRB]-YHp[Derivation=After])+[Proper=False]\n",
      "ANALYSIS_2: (çek[VB]+[Polarity=Pos])([CRB]-YHp[Derivation=After])+[Proper=True]\n",
      "\n",
      "SURFACE_FORM: işkencelere\n",
      "ANALYSIS_1: (işkence[NN]+[PersonNumber=A3sg]+[Possessive=Pnon]+[Case=Bare])([VB]-lA[Derivation=Make]+[Polarity=Pos])([NOMP]-Hr[Derivation=AorNom]+[PersonNumber=A3sg]+[Possessive=Pnon]+YA[Case=Dat]+[Copula=PresCop]+[PersonNumber=V3pl])+[Proper=False]\n",
      "ANALYSIS_2: (işkence[NN]+[PersonNumber=A3sg]+[Possessive=Pnon]+[Case=Bare])([VB]-lA[Derivation=Make]+[Polarity=Pos])([NOMP]-Hr[Derivation=AorNom]+[PersonNumber=A3sg]+[Possessive=Pnon]+YA[Case=Dat]+[Copula=PresCop]+[PersonNumber=V3pl])+[Proper=True]\n",
      "\n",
      "SURFACE_FORM: gönüllü\n",
      "ANALYSIS_1: (Gönül[NNP]+[PersonNumber=A3sg]+[Possessive=Pnon]+[Case=Bare])([JJ]-lH[Derivation=From])+[Proper=False]\n",
      "ANALYSIS_2: (Gönül[NNP]+[PersonNumber=A3sg]+[Possessive=Pnon]+[Case=Bare])([JJ]-lH[Derivation=From])+[Proper=True]\n",
      "\n",
      "SURFACE_FORM: katlanacaktım\n",
      "ANALYSIS_1: (kat[NN]+[PersonNumber=A3sg]+[Possessive=Pnon]+[Case=Bare])([VB]-lA[Derivation=Make])([VB]-Hn[Derivation=Pass]+[Polarity=Pos])([NOMP]-YAcAk[Derivation=FutNom]+[PersonNumber=A3sg]+[Possessive=Pnon]+[Case=Bare]+YDH[Copula=PastCop]+m[PersonNumber=V1sg])+[Proper=False]\n",
      "ANALYSIS_2: (kat[NN]+[PersonNumber=A3sg]+[Possessive=Pnon]+[Case=Bare])([VB]-lA[Derivation=Make])([VB]-Hn[Derivation=Pass]+[Polarity=Pos])([NOMP]-YAcAk[Derivation=FutNom]+[PersonNumber=A3sg]+[Possessive=Pnon]+[Case=Bare]+YDH[Copula=PastCop]+m[PersonNumber=V1sg])+[Proper=True]\n",
      "\n",
      "SURFACE_FORM: yerine\n",
      "ANALYSIS_1: (ye[VB]+[Polarity=Pos])([NOMP]-r[Derivation=AorNom]+[PersonNumber=A3sg]+Hn[Possessive=P2sg]+NA[Case=Dat]+[Copula=PresCop]+[PersonNumber=V3pl])+[Proper=False]\n",
      "ANALYSIS_2: (ye[VB]+[Polarity=Pos])([NOMP]-r[Derivation=AorNom]+[PersonNumber=A3sg]+Hn[Possessive=P2sg]+NA[Case=Dat]+[Copula=PresCop]+[PersonNumber=V3pl])+[Proper=True]\n",
      "\n",
      "SURFACE_FORM: bilmeden\n",
      "ANALYSIS_1: (bil[VB]+[Polarity=Pos])([NOMP]-mA[Derivation=Nonf]+[PersonNumber=A3sg]+[Possessive=Pnon]+DAn[Case=Abl]+[Copula=PresCop]+[PersonNumber=V3pl])+[Proper=False]\n",
      "ANALYSIS_2: (bil[VB]+[Polarity=Pos])([NOMP]-mA[Derivation=Nonf]+[PersonNumber=A3sg]+[Possessive=Pnon]+DAn[Case=Abl]+[Copula=PresCop]+[PersonNumber=V3pl])+[Proper=True]\n",
      "\n"
     ]
    }
   ],
   "source": [
    "analyze(data)"
   ]
  },
  {
   "cell_type": "markdown",
   "metadata": {},
   "source": [
    "https://github.com/google-research/turkish-morphology"
   ]
  },
  {
   "cell_type": "code",
   "execution_count": 42,
   "metadata": {
    "ExecuteTime": {
     "end_time": "2020-11-04T10:21:59.529735Z",
     "start_time": "2020-11-04T10:21:59.524013Z"
    }
   },
   "outputs": [],
   "source": [
    "def merge(data):\n",
    "    for file, content in data.items():\n",
    "        for index, line in enumerate(content):\n",
    "            data_point = ''\n",
    "            for analyses in line:\n",
    "                stream = '/'.join(analysis for analysis in analyses)\n",
    "                data_point += stream + ' '\n",
    "            data_point = data_point.strip()\n",
    "            # update\n",
    "            content[index] = data_point"
   ]
  },
  {
   "cell_type": "code",
   "execution_count": 43,
   "metadata": {
    "ExecuteTime": {
     "end_time": "2020-11-04T10:22:04.680540Z",
     "start_time": "2020-11-04T10:22:04.677445Z"
    }
   },
   "outputs": [],
   "source": [
    "merge(data)"
   ]
  },
  {
   "cell_type": "code",
   "execution_count": 45,
   "metadata": {
    "ExecuteTime": {
     "end_time": "2020-11-04T10:22:47.345550Z",
     "start_time": "2020-11-04T10:22:47.342595Z"
    }
   },
   "outputs": [
    {
     "data": {
      "text/plain": [
       "'(nü[JJ])+[Proper=False]/(nü[JJ])+[Proper=True] (Peri[NNP]+[PersonNumber=A3sg]+[Possessive=Pnon]+DA[Case=Loc])+[Proper=True]/(Peride[NNP]+[PersonNumber=A3sg]+[Possessive=Pnon]+[Case=Bare])+[Proper=True]'"
      ]
     },
     "execution_count": 45,
     "metadata": {},
     "output_type": "execute_result"
    }
   ],
   "source": [
    "content = data['00001131_pp.txt']\n",
    "content[0]"
   ]
  },
  {
   "cell_type": "code",
   "execution_count": 46,
   "metadata": {
    "ExecuteTime": {
     "end_time": "2020-11-04T10:23:28.759854Z",
     "start_time": "2020-11-04T10:23:28.755628Z"
    }
   },
   "outputs": [],
   "source": [
    "def export(data):\n",
    "    for file_name, content in data.items():\n",
    "        name, ext = file_name.split('.')\n",
    "    output_file = open(output_path+name+'_ma.'+ext, 'w')\n",
    "    for line in content:\n",
    "        output_file.write(line+'\\n')\n",
    "    output_file.close()"
   ]
  },
  {
   "cell_type": "code",
   "execution_count": 47,
   "metadata": {
    "ExecuteTime": {
     "end_time": "2020-11-04T10:23:43.461990Z",
     "start_time": "2020-11-04T10:23:43.457654Z"
    }
   },
   "outputs": [],
   "source": [
    "export(data)"
   ]
  }
 ],
 "metadata": {
  "kernelspec": {
   "display_name": "Python 3",
   "language": "python",
   "name": "python3"
  },
  "language_info": {
   "codemirror_mode": {
    "name": "ipython",
    "version": 3
   },
   "file_extension": ".py",
   "mimetype": "text/x-python",
   "name": "python",
   "nbconvert_exporter": "python",
   "pygments_lexer": "ipython3",
   "version": "3.8.5"
  },
  "varInspector": {
   "cols": {
    "lenName": 16,
    "lenType": 16,
    "lenVar": 40
   },
   "kernels_config": {
    "python": {
     "delete_cmd_postfix": "",
     "delete_cmd_prefix": "del ",
     "library": "var_list.py",
     "varRefreshCmd": "print(var_dic_list())"
    },
    "r": {
     "delete_cmd_postfix": ") ",
     "delete_cmd_prefix": "rm(",
     "library": "var_list.r",
     "varRefreshCmd": "cat(var_dic_list()) "
    }
   },
   "types_to_exclude": [
    "module",
    "function",
    "builtin_function_or_method",
    "instance",
    "_Feature"
   ],
   "window_display": false
  }
 },
 "nbformat": 4,
 "nbformat_minor": 2
}
