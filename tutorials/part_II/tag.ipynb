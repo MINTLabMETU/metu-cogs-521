{
 "cells": [
  {
   "cell_type": "markdown",
   "metadata": {},
   "source": [
    "# Tutorial \n",
    "\n",
    "## Part-II\n",
    "\n",
    "In this live session we will **(a)** tokenize the input into words, **(b)** morphologically analyze each instance, **(c)** merge the instances conforming to the scope of the original data points and **(d)** export accordingly. Input will be the output of Part-I (Turkish).\n"
   ]
  },
  {
   "cell_type": "markdown",
   "metadata": {},
   "source": [
    "### * imports\n"
   ]
  },
  {
   "cell_type": "code",
   "execution_count": null,
   "metadata": {
    "ExecuteTime": {
     "end_time": "2020-11-04T00:33:12.216332Z",
     "start_time": "2020-11-04T00:33:12.213196Z"
    }
   },
   "outputs": [],
   "source": [
    "# for reading file names in a directory\n",
    "import glob\n",
    "from string import punctuation\n",
    "import subprocess"
   ]
  },
  {
   "cell_type": "markdown",
   "metadata": {},
   "source": [
    "### ** globals"
   ]
  },
  {
   "cell_type": "code",
   "execution_count": null,
   "metadata": {
    "ExecuteTime": {
     "end_time": "2020-11-04T00:33:14.677212Z",
     "start_time": "2020-11-04T00:33:14.674284Z"
    }
   },
   "outputs": [],
   "source": [
    "input_path = \"./in/\"\n",
    "output_path = \"./out/\""
   ]
  },
  {
   "cell_type": "markdown",
   "metadata": {},
   "source": [
    "### *** read input"
   ]
  },
  {
   "cell_type": "code",
   "execution_count": null,
   "metadata": {
    "ExecuteTime": {
     "end_time": "2020-11-04T00:33:16.351387Z",
     "start_time": "2020-11-04T00:33:16.345669Z"
    }
   },
   "outputs": [],
   "source": [
    "def read_and_store_input(input_path):\n",
    "    # initialize dictionary\n",
    "    data = {}\n",
    "    # read file names from the input directory\n",
    "    input_files = glob.glob(input_path+'*.txt')\n",
    "    for file_path in input_files:\n",
    "        content = open(file_path, 'r')\n",
    "        # create an empty list with a key as the name of the current file\n",
    "        file_name = file_path.split('/')[-1]\n",
    "        data[file_name]=[]\n",
    "        # populate the list with content from file\n",
    "        for line in content:\n",
    "            # check if line has content\n",
    "            if line.strip() != \"\":\n",
    "                data[file_name].append(line)\n",
    "    return data"
   ]
  },
  {
   "cell_type": "code",
   "execution_count": null,
   "metadata": {
    "ExecuteTime": {
     "end_time": "2020-11-04T00:33:18.252978Z",
     "start_time": "2020-11-04T00:33:18.249337Z"
    }
   },
   "outputs": [],
   "source": [
    "data = read_and_store_input(input_path)"
   ]
  },
  {
   "cell_type": "markdown",
   "metadata": {},
   "source": [
    "### (a) tokenize each line into words"
   ]
  },
  {
   "cell_type": "code",
   "execution_count": null,
   "metadata": {
    "ExecuteTime": {
     "end_time": "2020-11-04T00:33:59.168291Z",
     "start_time": "2020-11-04T00:33:59.162043Z"
    }
   },
   "outputs": [],
   "source": [
    "def tokenize(line):\n",
    "    # remove punctuation\n",
    "    # note that important information about sentence boundaries will be lost; what could be a better solution?\n",
    "    line = ''.join(ch for ch in line if ch not in punctuation)\n",
    "    # tokenize a string by assuming all white spaces as word boundaries\n",
    "    words = line.split()\n",
    "    return words\n",
    "\n",
    "def tokenizer(data):\n",
    "    # traverse data\n",
    "    for file, content in data.items():\n",
    "        for index, line in enumerate(content):\n",
    "            words = tokenize(line)\n",
    "            # make changes in situ, i.e. update\n",
    "            content[index] = words\n"
   ]
  },
  {
   "cell_type": "code",
   "execution_count": null,
   "metadata": {
    "ExecuteTime": {
     "end_time": "2020-11-04T00:34:01.318055Z",
     "start_time": "2020-11-04T00:34:01.314956Z"
    }
   },
   "outputs": [],
   "source": [
    "tokenizer(data)"
   ]
  },
  {
   "cell_type": "markdown",
   "metadata": {},
   "source": [
    "### (b) morphological analysis\n",
    "\n",
    "for this part a two-level [morphological analyzer](https://github.com/google-research/turkish-morphology) is used from google-research"
   ]
  },
  {
   "cell_type": "code",
   "execution_count": null,
   "metadata": {
    "ExecuteTime": {
     "end_time": "2020-11-04T00:34:03.389413Z",
     "start_time": "2020-11-04T00:34:03.381517Z"
    }
   },
   "outputs": [],
   "source": [
    "def analyzer(word):\n",
    "        # the command that calls a third party morphological analyzer (MA) on a target word\n",
    "        command = \"bazel run -c opt scripts:print_analyses -- --word=%s\" %(word)\n",
    "        # the path of the root directory of the third party MA\n",
    "        directory = \"/home/gorgo/Tools/turkish-morphology-master/\"\n",
    "        analysis = subprocess.run(command.split(), capture_output=True, cwd=directory).stdout.decode().split('\\n')[1]\n",
    "        return analysis\n",
    "\n",
    "def analyze(data):\n",
    "    # traverse data\n",
    "    for file, content in data.items():\n",
    "        for line in content:\n",
    "            for index, word in enumerate(line):\n",
    "                print(\"SURFACE_FORM: %s\" %(word))\n",
    "                analysis = analyzer(word)\n",
    "                if not analysis:\n",
    "                    analysis = \"(%s[NON_WORD])\" %(word)\n",
    "                print(\"ANALYSIS: %s\\n\" %(analysis))\n",
    "                # make changes in situ, i.e. update\n",
    "                line[index] = analysis"
   ]
  },
  {
   "cell_type": "code",
   "execution_count": null,
   "metadata": {
    "ExecuteTime": {
     "end_time": "2020-11-04T00:38:54.452209Z",
     "start_time": "2020-11-04T00:34:06.072996Z"
    }
   },
   "outputs": [],
   "source": [
    "analyze(data)"
   ]
  },
  {
   "cell_type": "code",
   "execution_count": null,
   "metadata": {
    "ExecuteTime": {
     "end_time": "2020-11-04T00:39:21.106051Z",
     "start_time": "2020-11-04T00:39:21.093326Z"
    },
    "tags": []
   },
   "outputs": [],
   "source": [
    "# lets see what we have\n",
    "for file, content in data.items():\n",
    "    for li, line in enumerate(content):\n",
    "        for wi, word in enumerate(line):\n",
    "            print(\"LINE:%s WORD:%s --> %s\\n\" %(li+1, wi+1, word))\n"
   ]
  },
  {
   "cell_type": "markdown",
   "metadata": {},
   "source": [
    "### (c) merge the instances (i.e. words into lines)"
   ]
  },
  {
   "cell_type": "code",
   "execution_count": null,
   "metadata": {},
   "outputs": [],
   "source": [
    "def merge(data):\n",
    "    for file, content in data.items():\n",
    "        for index, line in enumerate(content):\n",
    "            line = ' '.join(word for word in line)\n",
    "            # make changes in situ, i.e. update\n",
    "            content[index] = line"
   ]
  },
  {
   "cell_type": "code",
   "execution_count": null,
   "metadata": {},
   "outputs": [],
   "source": [
    "merge(data)"
   ]
  },
  {
   "cell_type": "markdown",
   "metadata": {},
   "source": [
    "### (d) export the results"
   ]
  },
  {
   "cell_type": "code",
   "execution_count": null,
   "metadata": {},
   "outputs": [],
   "source": [
    "def export(data):\n",
    "    for file_name, content in data.items():\n",
    "        name, ext = file_name.split('.')\n",
    "    output_file = open(output_path+name+'_ma.'+ext, 'w')\n",
    "    for line in content:\n",
    "        output_file.write(line+'\\n')\n",
    "    output_file.close()"
   ]
  },
  {
   "cell_type": "code",
   "execution_count": null,
   "metadata": {},
   "outputs": [],
   "source": [
    "export(data)"
   ]
  }
 ],
 "metadata": {
  "kernelspec": {
   "display_name": "Python 3",
   "language": "python",
   "name": "python3"
  },
  "language_info": {
   "codemirror_mode": {
    "name": "ipython",
    "version": 3
   },
   "file_extension": ".py",
   "mimetype": "text/x-python",
   "name": "python",
   "nbconvert_exporter": "python",
   "pygments_lexer": "ipython3",
   "version": "3.8.5"
  },
  "varInspector": {
   "cols": {
    "lenName": 16,
    "lenType": 16,
    "lenVar": 40
   },
   "kernels_config": {
    "python": {
     "delete_cmd_postfix": "",
     "delete_cmd_prefix": "del ",
     "library": "var_list.py",
     "varRefreshCmd": "print(var_dic_list())"
    },
    "r": {
     "delete_cmd_postfix": ") ",
     "delete_cmd_prefix": "rm(",
     "library": "var_list.r",
     "varRefreshCmd": "cat(var_dic_list()) "
    }
   },
   "position": {
    "height": "270.183px",
    "left": "660.5px",
    "right": "20px",
    "top": "120px",
    "width": "309.5px"
   },
   "types_to_exclude": [
    "module",
    "function",
    "builtin_function_or_method",
    "instance",
    "_Feature"
   ],
   "window_display": true
  }
 },
 "nbformat": 4,
 "nbformat_minor": 2
}