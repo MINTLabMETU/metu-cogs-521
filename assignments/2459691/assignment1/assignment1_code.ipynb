{
 "cells": [
  {
   "cell_type": "code",
   "execution_count": 3,
   "metadata": {},
   "outputs": [],
   "source": [
    "import string"
   ]
  },
  {
   "cell_type": "code",
   "execution_count": 1,
   "metadata": {},
   "outputs": [],
   "source": [
    "#to read the input data\n",
    "with open (\"in\", \"r\") as f:\n",
    "    text = f.read()\n",
    "    #print(text)\n",
    "    \n",
    "#spliting each row as a item in a list\n",
    "    splitlined = text.splitlines()\n",
    "    #print(splitlined)\n",
    "    \n",
    "# spliting discourses of child and mother,then save as an text file\n",
    "    child_discourses=[]\n",
    "    mother_discourses=[]\n",
    "    \n",
    "    \n",
    "    for sentence in splitlined:\n",
    "    #    print(sentence)\n",
    "        sentence_split = sentence.split(\":\")\n",
    "        if sentence_split[0]==\"CHI\":\n",
    "            child_discourses.append(sentence_split[1])\n",
    "        elif sentence_split[0]==\"MOT\":\n",
    "            mother_discourses.append(sentence_split[1])\n",
    "    #print(mother_sentence)\n",
    "    \n",
    "    \n",
    "with open (\"mother.txt\", \"w\") as f:\n",
    "    for sentence in mother_discourses:\n",
    "        f.writelines(sentence+\"\\n\")\n",
    "        \n",
    "        \n",
    "with open (\"child.txt\", \"w\") as f:\n",
    "    for sentence in child_discourses:\n",
    "        f.writelines(sentence+\"\\n\")\n",
    "            \n",
    "    \n",
    "\n"
   ]
  },
  {
   "cell_type": "code",
   "execution_count": 38,
   "metadata": {},
   "outputs": [],
   "source": [
    "import string\n",
    "import glob\n",
    "import nltk\n",
    "\n",
    "with open (\"child.txt\", \"r\") as f:\n",
    "    child = f.read()\n",
    "    #print(child)\n",
    "    \n",
    "    words = child.split()\n",
    "    #print(words)\n",
    "    \n",
    "        \n",
    "    table = str.maketrans(\"\", \"\", string.punctuation)\n",
    "    stripped = [w.translate(table) for w in words]\n",
    "    #print(stripped)\n",
    "    \n",
    "    with open (\"child_out\", \"w\") as f:\n",
    "        for sentence in stripped:\n",
    "            f.writelines(sentence+\"\\n\")\n",
    "    \n",
    "    \n",
    "    "
   ]
  },
  {
   "cell_type": "code",
   "execution_count": 40,
   "metadata": {},
   "outputs": [],
   "source": [
    "import string\n",
    "import glob\n",
    "import nltk\n",
    "\n",
    "with open (\"mother.txt\", \"r\") as f:\n",
    "    mother = f.read()\n",
    "    #print(mother)\n",
    "    \n",
    "    wordsM = mother.split()\n",
    "    #print(wordsM)\n",
    "    \n",
    "        \n",
    "    table = str.maketrans(\"\", \"\", string.punctuation)\n",
    "    strippedM = [w.translate(table) for w in wordsM]\n",
    "    #print(strippedM)\n",
    "    \n",
    "    with open (\"mother_out\", \"w\") as f:\n",
    "        for sentence in strippedM:\n",
    "            f.writelines(sentence+\"\\n\")\n",
    "    "
   ]
  },
  {
   "cell_type": "code",
   "execution_count": null,
   "metadata": {},
   "outputs": [],
   "source": []
  }
 ],
 "metadata": {
  "kernelspec": {
   "display_name": "Python 3",
   "language": "python",
   "name": "python3"
  },
  "language_info": {
   "codemirror_mode": {
    "name": "ipython",
    "version": 3
   },
   "file_extension": ".py",
   "mimetype": "text/x-python",
   "name": "python",
   "nbconvert_exporter": "python",
   "pygments_lexer": "ipython3",
   "version": "3.8.3"
  }
 },
 "nbformat": 4,
 "nbformat_minor": 4
}
