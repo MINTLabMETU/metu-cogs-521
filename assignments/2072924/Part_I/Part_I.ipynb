{
 "cells": [
  {
   "cell_type": "code",
   "execution_count": 128,
   "metadata": {},
   "outputs": [],
   "source": [
    "import glob"
   ]
  },
  {
   "cell_type": "code",
   "execution_count": 129,
   "metadata": {},
   "outputs": [],
   "source": [
    "input_path = \"./in/\"\n",
    "output_path = \"./out/\""
   ]
  },
  {
   "cell_type": "code",
   "execution_count": 102,
   "metadata": {},
   "outputs": [
    {
     "name": "stdout",
     "output_type": "stream",
     "text": [
      "Requirement already satisfied: turkishnlp in /opt/anaconda3/lib/python3.8/site-packages (0.0.61)\n",
      "Note: you may need to restart the kernel to use updated packages.\n"
     ]
    }
   ],
   "source": [
    "pip install turkishnlp"
   ]
  },
  {
   "cell_type": "code",
   "execution_count": 103,
   "metadata": {},
   "outputs": [
    {
     "name": "stdout",
     "output_type": "stream",
     "text": [
      "Requirement already up-to-date: turkishnlp in /opt/anaconda3/lib/python3.8/site-packages (0.0.61)\n",
      "Note: you may need to restart the kernel to use updated packages.\n"
     ]
    }
   ],
   "source": [
    "pip install --upgrade turkishnlp"
   ]
  },
  {
   "cell_type": "code",
   "execution_count": 104,
   "metadata": {},
   "outputs": [],
   "source": [
    "import turkishnlp"
   ]
  },
  {
   "cell_type": "code",
   "execution_count": 130,
   "metadata": {},
   "outputs": [],
   "source": [
    "def read_and_store_input(input_path):\n",
    "    \n",
    "    data = {}\n",
    "    \n",
    "    input_files = glob.glob(input_path+'platon/*.txt')\n",
    "    \n",
    "    for file_path in input_files:\n",
    "        content = open(file_path, 'r')\n",
    "        file_name = file_path.split('/')[-1]\n",
    "        data[file_name]=[]\n",
    "        \n",
    "        for line in content:\n",
    "            data[file_name].append(line) \n",
    "        \n",
    "    \n",
    "    return data   "
   ]
  },
  {
   "cell_type": "code",
   "execution_count": 131,
   "metadata": {},
   "outputs": [],
   "source": [
    "data = read_and_store_input(input_path)"
   ]
  },
  {
   "cell_type": "code",
   "execution_count": 132,
   "metadata": {},
   "outputs": [],
   "source": [
    "import re"
   ]
  },
  {
   "cell_type": "code",
   "execution_count": 133,
   "metadata": {},
   "outputs": [],
   "source": [
    "import string"
   ]
  },
  {
   "cell_type": "code",
   "execution_count": 109,
   "metadata": {},
   "outputs": [],
   "source": [
    "from turkishnlp import detector\n",
    "obj = detector.TurkishNLP()"
   ]
  },
  {
   "cell_type": "code",
   "execution_count": 29,
   "metadata": {},
   "outputs": [
    {
     "name": "stdout",
     "output_type": "stream",
     "text": [
      "Download is successful\n"
     ]
    }
   ],
   "source": [
    "obj.download()"
   ]
  },
  {
   "cell_type": "code",
   "execution_count": 30,
   "metadata": {},
   "outputs": [],
   "source": [
    "obj.create_word_set()"
   ]
  },
  {
   "cell_type": "code",
   "execution_count": 31,
   "metadata": {},
   "outputs": [
    {
     "name": "stdout",
     "output_type": "stream",
     "text": [
      "veri kümesi. idare eder ancak daha güzel olabilir noktası\n"
     ]
    }
   ],
   "source": [
    "# spelling check test, trying not to remove sentence boundary punctuations\n",
    "#sentence = \"vri kümsi. idrae edre ancaka daha güezl oalbilir nktası\"\n",
    "#for word in sentence.split():\n",
    "#    corrected = []\n",
    "#    corrected.append(word)\n",
    "#    replaced_word = obj.auto_correct(corrected)[0]\n",
    "    #print(replaced_word)\n",
    "#    word = word.replace(\".\",\"\")\n",
    "#    sentence = sentence.replace(word, replaced_word)\n",
    "#print(sentence)"
   ]
  },
  {
   "cell_type": "code",
   "execution_count": 134,
   "metadata": {},
   "outputs": [],
   "source": [
    "dates = [\"ocak\", \"şubat\", \"mart\", \"nisan\", \"mayıs\", \"haziran\", \"temmuz\", \"ağustos\", \"eylül\", \"ekim\", \"kasım\", \"aralık\",\n",
    "        \"pazartesi\", \"salı\", \"çarşamba\", \"parşembe\", \"cuma\", \"cumartesi\", \"pazar\"]"
   ]
  },
  {
   "cell_type": "code",
   "execution_count": 138,
   "metadata": {},
   "outputs": [
    {
     "name": "stdout",
     "output_type": "stream",
     "text": [
      "Platonun Kratylosu dil felsefesinin başlangıç nktası dilbiilmin kaçınılmaz başvruu kaynağı dillle ilgili kafamızı kurcalayan onlarca sorunun ilk defa telaffuz ediliği metindir. Platonun dil kullanımı Kratylosun labirentlerinde rafine edilirken aslında Klasik Atinanın entellektüel çevrelerindeki en popüler tartışmalarından biri gözler önüne serilmektedir Adların doğruluğu. Kratylos dilin bi̇limsel felsefi dinsel yönlerini sorglayan bir dizi hala cevapsz soruyla gündemdeki yerini korumaktadır. Bunlardan sadece birkaçı Şöyle sıralanabilir bi̇r adı doğru yapn nedir Adların bir doğruluğu varsa bu doğruluk uylaşımsal mıdır yoksa doğal mıdır söz konusu doğrulluğun üzerinde yükseldiği zemin nedir anlam mı yoksa sözcüklein kendileri mi̇ kullandığımız dilin iletişşimde sağladığı ortaklıktan nasıl emin olabiiliriz.\n",
      "\n",
      "Platonun Kratylosu türkçede okuyucunn karşısına ilk defa çıkmyor. Ancak elinizdeki kitapta yer alan çeviri Yunanca orijinal metnin titz bir inceleenmesinin satııır satır kimileyin hece hece hatta harf harf kılı kırk yaran bir filolojikk dakikliğin ürünü olduğu iddiasını taşımaktadır. Çünkü bu çalışma diyalogda başvurulan deneysel dil cambazlıklarında ya da etimolojik sözcük oyunlarındaki zeka parıltısını kaybetmemeye çalışan bir çeviri pratiğiyle ortaya çıkmıştır. Bu zeka pırıltısı bir yandn okurun gözlerini kamaştırırken öte yandan dilin dilbilimin dil felsefesinin karanlık dehlizlerini aydınlatmaktadır. Kratylosun sunduğu sorunsal alan Kratylosa Yorumlar physisnomos karşıtlığı bağlamında Filolojik ve Yorumbilimsel Bir İnceleme başlıklı ikinci cilttteki yorumlarla bir nebze daha net bir görünüme kavuşmaktadır.\n",
      "\n",
      "Metindeki etimolojik araştırmanın sıradüzeninden açıklamaların arkasındaki niyetin ciddiyetine Sokratesin tartışmada hangi safı tuttuğundan Platonun kasten gizlenen gerçek fikirlerine sırlarla dolu bir atmosfer Kratylosun satırlarında bile isteye oluşturulmuş gibidir. Bu sır perdesini kaldırmaya çalışan okuyucu ya da çevirmen her seferinde yeniden dilin içine davet edildiğini fark etmekten kendisini alamaz. Kratylos belki tam da dile yönelik soruların cevaplarının ancak dilin içinde aranabileceğinin çıkmazına giden bir yol olarak tasarlanmıştır.\n",
      "\n",
      "Bu yolda yürüyen yorumcu filolojinin en küçük ayrıntıları gözden kaçırmayan bakışından yararlanırken metnin kültürel ve felsefi bağlamına da nüfuz etmek zorunda kalır. Elinizdeki inceleme böyle iki yönlü bir yöntemsel yaklaşımla Klasik Atinada doğayasa physisnomos arasındaki gerilimin dilsel boyutlarını açığa çıkarmayı amaçlamaktadır. Zira Yunan dilindeki fonetik bir sorunu maddi kültüre dair bir ayrıntıyı Yunan alfabesinin tarihsel gelişimini ya da deyimsel bir ifadenin dayandığı toplumsal belleği araştırırken yorumcu her seferinde felsefenin ayakkabılarıyla dil yolunda yürdüüğünün bilincine varır. Dil yolunda ve okuru da dil yoluna davet ederek\n",
      "Soylu bir aileye mensup olan Platon yılında Atinada doğmuş ve iyi bir eğitim görmüştür.\n",
      "Diogenes Laertios Platonun doğum tarihini kendi tahminlerine göre yıllarına yerleştirmiştir ancak günümüzde Platonun Yedinci Mektupundan yola çıkarak te doğmuş olması gerektiği düşünülmektedir.\n",
      "yaşında Sokratesle karşılaşınca felsefeye yönelmiş ve hocasının ölümüne kadar yıl boyunca öğrencisi olmuştur hocası ölünce diğer öğrencilerle birlikte Megaraya gitmiş ama burada uzun süre kalmayarak önce Mısıra oradan da Pythagorasçıların etkili oldukları Sicilya ve Güney İtalyaya geçmiştir.\n",
      "Bir ara korsanların eline düşmüş fidye vererek kurtulduktan sonra kırk yaşlarında Atinaya dönmüştür.\n",
      "Atinada Akademiyi kurarak dersler vermeye başlayan Platon yılında yaşındayken ölmüştür.\n",
      "Ludwig Josef Johann Wittgenstein Avusturya doğumlu filozof ve matematikçi.\n",
      "Mantık ve dil felsefesi konularında yaptığı çalışmalarla modern felsefeye önemli katkılarda bulunmuştur. . yüzyılın en önemli filozoflarından sayılır.\n",
      "Asıl adı Ludwig Josef Johann Wittgenstein olan Avusturya asıllı filozof da Viyanada dünyaya gelmiştir.\n",
      "\n",
      "yaşına kadar eğitimine özel derslerle devam eden Wittgenstein ortaokulu okuduktan sonra yılında teknik lisenin makine mühendisliği bölümüne girmiştir. yılında mühendis diplomasını aldıktan sonra uçak motoru yapımı denemelerinin yapıldığı Manchester mühendislik bilimi bölümüne gitmiştir. Kısa bir süre sonra bu kararından vazgeçen Wittgenstein yılında patent aldığı Uçak pervanesini geliştirme önerileri projesi üzerinde çalışmıştır.\n"
     ]
    }
   ],
   "source": [
    "for file, content in data.items():\n",
    "    for index, line in enumerate(content):\n",
    "        remove = string.punctuation.replace(\".\",\"\")\n",
    "        new_line = line.translate(str.maketrans(\"\",\"\", remove)).replace(\"M.Ö.\",\"\").replace(\"...\", \"\")\n",
    "        for word in new_line.split(): \n",
    "            if word == word.title():\n",
    "                new_line = new_line.replace(word, word.capitalize())\n",
    "            else:\n",
    "                new_line = new_line.replace(word, word.lower())\n",
    "        new_line = re.sub(r'\\d+', \"\", new_line)\n",
    "        new_line = \" \".join(word for word in new_line.split() if word.lower() not in dates)\n",
    "        \n",
    "# turkish nlp does not work properly so I decided to write this part as commentary line, did not run the code    \n",
    "      # for word in new_line.split():   \n",
    "     #     corrected_words = []\n",
    "     #     corrected_words.append(word.replace(\".\",\"\"))\n",
    "      #    replaced_word = obj.auto_correct(corrected_words)[0]\n",
    "      #    if replaced_word != word:\n",
    "        #      word = word.replace(\".\",\"\")\n",
    "        #      new_line = new_line.replace(word, replaced_word)\n",
    "      # corrected_words = obj.list_words(new_line)\n",
    "      # new_line = \" \".join(obj.auto_correct(corrected_words))\n",
    "\n",
    "        print(new_line)\n",
    "        content[index] = new_line"
   ]
  },
  {
   "cell_type": "code",
   "execution_count": 139,
   "metadata": {},
   "outputs": [],
   "source": [
    "for file_name, content in data.items():\n",
    "    output_file = open(output_path+file_name+'done', 'w')\n",
    "    for line in content:\n",
    "        output_file.write(line)\n",
    "        output_file.write('\\n')\n",
    "    output_file.close()"
   ]
  }
 ],
 "metadata": {
  "kernelspec": {
   "display_name": "Python 3",
   "language": "python",
   "name": "python3"
  },
  "language_info": {
   "codemirror_mode": {
    "name": "ipython",
    "version": 3
   },
   "file_extension": ".py",
   "mimetype": "text/x-python",
   "name": "python",
   "nbconvert_exporter": "python",
   "pygments_lexer": "ipython3",
   "version": "3.8.3"
  }
 },
 "nbformat": 4,
 "nbformat_minor": 4
}
