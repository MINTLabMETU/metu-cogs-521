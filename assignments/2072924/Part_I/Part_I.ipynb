{
 "cells": [
  {
   "cell_type": "markdown",
   "metadata": {},
   "source": [
    "## Part I"
   ]
  },
  {
   "cell_type": "markdown",
   "metadata": {},
   "source": [
    "### imports"
   ]
  },
  {
   "cell_type": "code",
   "execution_count": 40,
   "metadata": {},
   "outputs": [],
   "source": [
    "import glob\n",
    "import re\n",
    "import string"
   ]
  },
  {
   "cell_type": "markdown",
   "metadata": {},
   "source": [
    "### globals"
   ]
  },
  {
   "cell_type": "code",
   "execution_count": 41,
   "metadata": {},
   "outputs": [],
   "source": [
    "input_path = \"./in/\"\n",
    "output_path = \"./out/\""
   ]
  },
  {
   "cell_type": "markdown",
   "metadata": {},
   "source": [
    "### a) read input from files and store in a dictionary"
   ]
  },
  {
   "cell_type": "code",
   "execution_count": 42,
   "metadata": {},
   "outputs": [],
   "source": [
    "def read_and_store_input(input_path):\n",
    "    \n",
    "    data = {}\n",
    "    \n",
    "    input_files = glob.glob(input_path+'platon/*.txt')\n",
    "    \n",
    "    for file_path in input_files:\n",
    "        content = open(file_path, 'r')\n",
    "        file_name = file_path.split('/')[-1]\n",
    "        data[file_name]=[]\n",
    "        \n",
    "        for line in content:\n",
    "            data[file_name].append(line) \n",
    "        \n",
    "    return data\n"
   ]
  },
  {
   "cell_type": "code",
   "execution_count": 43,
   "metadata": {},
   "outputs": [],
   "source": [
    "data = read_and_store_input(input_path)"
   ]
  },
  {
   "cell_type": "code",
   "execution_count": 44,
   "metadata": {},
   "outputs": [
    {
     "data": {
      "text/plain": [
       "{'01.txt': [\"Platon'un Kratylos'u, dil felsefesinin baŞlangıÇ noktası, dilbilimin kaÇınılmaz baŞvuru kaynaĞı, dille ilgili kafamızı kurcalayan onlarca sorunun ilk defa telaffuz ediliĞi metindir. Platon'un dil kullanımı Kratylos'un laBirentleriNde raFine edilirKen, aslında Klasik Atina'nın entelektüel çevrelerindeki en popüler tartıŞmalarından biri gözler önüne serilmektedir: Adların doĞruluĞu. Kratylos, dilin bİlimsel, felsefi, dinsel yönlerini sorglayan bir dizi hala cevapsz sOruyla gündemdeki yerini korumakTadır. Bunlardan sadece birkaÇı Şöyle sıralanabilir: Bİr adı doĞru yapan nedir? Adların bir doĞruluĞu varsa bu doĞruluk uylaŞımsal mıdır yoksa doĞal mıdır? SöZ konusu doĞruluĞun üzerinde yükseldiĞi zemin nedir, anlam mı, yoksa sözcüklerin kendileri mİ? KullandıĞımız dilin iletiŞimde saĞladıĞı ortaklıktan nasıl eMin olabiiliriz...\\n\",\n",
       "  '\\n',\n",
       "  \"Platon'un Kratylos'u TürkÇede okuyucunun karŞısına ilk defa çıkmıyor. Ancak elinizdeki kitapta yer alan çeviri Yunanca orijinAl metnin titiz bir incelenmesinin, satır satır, kimileyin hece hece, hatta harf haRf, kılı kırk yaran bir filolojik dakikliĞin ürünü olduĞu iddiasını taŞımaktadır. Çünkü bu çalıŞma, diyalogda baŞvurulan deneysel dil cambazlıklarında ya da eTimolojik sözcük oyunlarındaki zeka parıltısını kaybetmemeye çalıŞan bir çeviri pratiĞiyle ortaya çıkmıŞtır. Bu zeka pırıltısı bir yandan okurun gözlerini kamaŞtırırken, öte yandan dilin, dilbilimin, dil felsefesinin karanlık dehlizlerini aydınlatmaktadır. Kratylos'un sunduĞu sorunsal alan, Kratylos'a Yorumlar: Physis-Nomos KarŞıtlıĞı BaĞlamında Filolojik ve Yorumbilimsel Bir İnceleme baŞlıklı ikinci ciltteki yorumlarla bir nebze daha net bir görünüme kavuŞmaktadır.\\n\",\n",
       "  '\\n',\n",
       "  \"Metindeki etimolojik araŞtırmanın sıradüzeninden, aÇıklamaların arkasındaki niyetin ciddiyetine, Sokrates'in tartıŞmada hangi safı tuttuĞundan, Platon'un kasten gizlenen gerÇek fikirlerine, sırlarla dolu bir atmosfer Kratylos'un satırlarında bile isteye oluŞturulmuŞ gibidir. Bu sır perdesini kaldırmaya çalıŞan okuyucu ya da çevirmen her seferinde yeniden dilin iÇine davet edildiĞini fark etmekten kendisini alamaz. Kratylos belki tam da, dile yönelik soruların cevaplarının ancak dilin iÇinde aranabileceĞinin çıkmazına giden bir yol olarak tasarlanmıŞtır.\\n\",\n",
       "  '\\n',\n",
       "  \"Bu yolda yürüyen yorumcu filolojinin en küÇük ayrıntıları gözden kaÇırmayan bakıŞından yararlanırken, metnin kültürel ve felsefi baĞlamına da nüfuz etmek zorunda kalır. Elinizdeki inceleme böyle iki yönlü bir yöntemsel yaklaŞımla Klasik Atina'da doĞa-yasa (physis-nomos) arasındaki gerilimin dilsel boyutlarını aÇıĞa çıkarmayı amaÇlamaktadır. Zira Yunan dilindeki fonetik bir sorunu, maddi kültüre dair bir ayrıntıyı, Yunan alfabesinin tarihsel geliŞimini ya da deyimsel bir ifadenin dayandıĞı toplumsal belleĞi araŞtırırken yorumcu her seferinde felsefenin ayakkabılarıyla dil yolunda yürdüüĞünün bilincine varır. Dil yolunda ve okuru da dil yoluna davet ederek...\"],\n",
       " '02.txt': [\"Soylu bir aileye mensup olan Platon, M.Ö.428 yılında Atina'da doĞmuŞ ve iyi bir eĞitim görmüŞtür. \\n\",\n",
       "  \"Diogenes Laertios Platon'un doĞum tarihini kendi tahminlerine göre 428/7 yıllarına yerleŞtirmiŞtir ancak günümüzde Platon'un Yedinci Mektup'undan yola çıkarak 424/3'te doĞmuŞ olması gerektiĞi düŞünülmektedir. [8]\\xa0\\n\",\n",
       "  \"20 yaŞında Sokrates'le karŞılaŞınca felsefeye yönelmiŞ ve hocasının ölümüne kadar (M.Ö.399) 8 yıl boyunca öĞrencisi olmuŞtur; hocası ölünce, diĞer öĞrencilerle birlikte Megara'ya gitmiŞ ama burada uzun süre kalmayarak önce Mısır'a, oradan da Pythagorasçıların etkili oldukları Sicilya ve Güney İtalya'ya geçmiŞtir. \\n\",\n",
       "  \"Bir ara korsanların eline düŞmüŞ, fidye vererek kurtulduktan sonra, kırk yaŞlarında Atina'ya dönmüŞtür.\\n\",\n",
       "  \"Atina'da Akademi'yi kurarak dersler vermeye baŞlayan Platon, M.Ö.347 yılında 81 yaŞındayken ölmüştür.\"],\n",
       " '03.txt': ['Ludwig Josef Johann Wittgenstein\\xa0(26 Nisan 1889-29 Nisan 1951), Avusturya doğumlu filozof ve matematikçi.\\n',\n",
       "  'Mantık ve dil felsefesi konularında yaptığı çalışmalarla modern felsefeye önemli katkılarda bulunmuştur. 20. yüzyılın en önemli filozoflarından sayılır.\\n',\n",
       "  \"Asıl adı Ludwig Josef Johann Wittgenstein olan Avusturya asıllı filozof, 26 Nisan 1889'da Viyana'da dünyaya gelmiştir.\\n\",\n",
       "  '\\n',\n",
       "  '14 yaşına kadar eğitimine özel derslerle devam eden Wittgenstein, ortaokulu\\xa0okuduktan sonra, 1906 yılında teknik lisenin makine mühendisliği bölümüne girmiştir. 1908 yılında mühendis diplomasını aldıktan sonra, uçak motoru yapımı denemelerinin yapıldığı, Manchester mühendislik bilimi bölümüne gitmiştir. Kısa bir süre sonra bu kararından vazgeçen Wittgenstein, 17 Ağustos 1911 yılında patent aldığı \"uçak pervanesini geliştirme önerileri\" projesi üzerinde çalışmıştır.']}"
      ]
     },
     "execution_count": 44,
     "metadata": {},
     "output_type": "execute_result"
    }
   ],
   "source": [
    "data"
   ]
  },
  {
   "cell_type": "markdown",
   "metadata": {},
   "source": [
    "### b) import Trnlp to correct spelling"
   ]
  },
  {
   "cell_type": "code",
   "execution_count": null,
   "metadata": {},
   "outputs": [],
   "source": [
    "import turkishnlp"
   ]
  },
  {
   "cell_type": "code",
   "execution_count": 32,
   "metadata": {},
   "outputs": [
    {
     "name": "stdout",
     "output_type": "stream",
     "text": [
      "Requirement already satisfied: turkishnlp in /opt/anaconda3/lib/python3.8/site-packages (0.0.61)\n",
      "Note: you may need to restart the kernel to use updated packages.\n"
     ]
    }
   ],
   "source": [
    "pip install turkishnlp"
   ]
  },
  {
   "cell_type": "code",
   "execution_count": 33,
   "metadata": {},
   "outputs": [
    {
     "name": "stdout",
     "output_type": "stream",
     "text": [
      "Requirement already up-to-date: turkishnlp in /opt/anaconda3/lib/python3.8/site-packages (0.0.61)\n",
      "Note: you may need to restart the kernel to use updated packages.\n"
     ]
    }
   ],
   "source": [
    "pip install --upgrade turkishnlp"
   ]
  },
  {
   "cell_type": "code",
   "execution_count": 18,
   "metadata": {},
   "outputs": [],
   "source": [
    "from turkishnlp import detector\n",
    "obj = detector.TurkishNLP()"
   ]
  },
  {
   "cell_type": "code",
   "execution_count": 19,
   "metadata": {},
   "outputs": [
    {
     "name": "stdout",
     "output_type": "stream",
     "text": [
      "Download is successful\n"
     ]
    }
   ],
   "source": [
    "obj.download()"
   ]
  },
  {
   "cell_type": "code",
   "execution_count": 20,
   "metadata": {},
   "outputs": [],
   "source": [
    "obj.create_word_set()"
   ]
  },
  {
   "cell_type": "markdown",
   "metadata": {},
   "source": [
    "### -spelling check test, trying not to remove sentence boundary punctuations-"
   ]
  },
  {
   "cell_type": "code",
   "execution_count": 31,
   "metadata": {},
   "outputs": [
    {
     "name": "stdout",
     "output_type": "stream",
     "text": [
      "veri kümesi. idare eder ancak daha güzel olabilir noktası\n"
     ]
    }
   ],
   "source": [
    "# sentence = \"vri kümsi. idrae edre ancaka daha güezl oalbilir nktası\"\n",
    "# for word in sentence.split():\n",
    "#     corrected = []\n",
    "#     corrected.append(word)\n",
    "#     replaced_word = obj.auto_correct(corrected)[0]\n",
    "#     print(replaced_word)\n",
    "#     word = word.replace(\".\",\"\")\n",
    "#     sentence = sentence.replace(word, replaced_word)\n",
    "# print(sentence)"
   ]
  },
  {
   "cell_type": "markdown",
   "metadata": {},
   "source": [
    "### -eliminating dates-"
   ]
  },
  {
   "cell_type": "code",
   "execution_count": 45,
   "metadata": {},
   "outputs": [],
   "source": [
    "dates = [\"ocak\", \"şubat\", \"mart\", \"nisan\", \"mayıs\", \"haziran\", \"temmuz\", \"ağustos\", \"eylül\", \"ekim\", \"kasım\", \"aralık\",\n",
    "        \"pazartesi\", \"salı\", \"çarşamba\", \"parşembe\", \"cuma\", \"cumartesi\", \"pazar\"]"
   ]
  },
  {
   "cell_type": "markdown",
   "metadata": {},
   "source": [
    "### c) removing punctuations, numbers, dates and normalize cases except proper names"
   ]
  },
  {
   "cell_type": "code",
   "execution_count": 46,
   "metadata": {},
   "outputs": [
    {
     "name": "stdout",
     "output_type": "stream",
     "text": [
      "Platonun Kratylosu dil felsefesinin başlangıç noktası dilbilimin kaçınılmaz başvuru kaynağı dille ilgili kafamızı kurcalayan onlarca sorunun ilk defa telaffuz ediliği metindir. Platonun dil kullanımı Kratylosun labirentlerinde rafine edilirken aslında Klasik Atinanın entelektüel çevrelerindeki en popüler tartışmalarından biri gözler önüne serilmektedir Adların doğruluğu. Kratylos dilin bi̇limsel felsefi dinsel yönlerini sorglayan bir dizi hala cevapsz soruyla gündemdeki yerini korumaktadır. Bunlardan sadece birkaçı Şöyle sıralanabilir bi̇r adı doğru yapan nedir? Adların bir doğruluĞu varsa bu doğruluk uylaşımsal mıdır yoksa doğal mıdır? söz konusu doğruluĞun üzerinde yükseldiği zemin nedir anlam mı yoksa sözcüklerin kendileri mi̇? kullandığımız dilin iletişimde sağladığı ortaklıktan nasıl emin olabiiliriz...\n",
      "\n",
      "Platonun Kratylosu türkçede okuyucunun karşısına ilk defa çıkmıyor. Ancak elinizdeki kitapta yer alan çeviri Yunanca orijinal metnin titiz bir incelenmesinin satır satır kimileyin hece hece hatta harf harf kılı kırk yaran bir filolojik dakikliğin ürünü olduğu iddiasını taşımaktadır. Çünkü bu çalışma diyalogda başvurulan deneysel dil cambazlıklarında ya da etimolojik sözcük oyunlarındaki zeka parıltısını kaybetmemeye çalışan bir çeviri pratiğiyle ortaya çıkmıştır. Bu zeka pırıltısı bir yandan okurun gözlerini kamaştırırken öte yandan dilin dilbilimin dil felsefesinin karanlık dehlizlerini aydınlatmaktadır. Kratylosun sunduğu sorunsal alan Kratylosa Yorumlar physisnomos karşıtlığı bağlamında Filolojik ve Yorumbilimsel Bir İnceleme başlıklı ikinci ciltteki yorumlarla bir nebze daha net bir görünüme kavuşmaktadır.\n",
      "\n",
      "Metindeki etimolojik araştırmanın sıradüzeninden açıklamaların arkasındaki niyetin ciddiyetine Sokratesin tartışmada hangi safı tuttuğundan Platonun kasten gizlenen gerçek fikirlerine sırlarla dolu bir atmosfer Kratylosun satırlarında bile isteye oluşturulmuş gibidir. Bu sır perdesini kaldırmaya çalışan okuyucu ya da çevirmen her seferinde yeniden dilin içine davet edildiğini fark etmekten kendisini alamaz. Kratylos belki tam da dile yönelik soruların cevaplarının ancak dilin içinde aranabileceğinin çıkmazına giden bir yol olarak tasarlanmıştır.\n",
      "\n",
      "Bu yolda yürüyen yorumcu filolojinin en küçük ayrıntıları gözden kaçırmayan bakışından yararlanırken metnin kültürel ve felsefi bağlamına da nüfuz etmek zorunda kalır. Elinizdeki inceleme böyle iki yönlü bir yöntemsel yaklaşımla Klasik Atinada doğayasa physisnomos arasındaki gerilimin dilsel boyutlarını açığa çıkarmayı amaçlamaktadır. Zira Yunan dilindeki fonetik bir sorunu maddi kültüre dair bir ayrıntıyı Yunan alfabesinin tarihsel gelişimini ya da deyimsel bir ifadenin dayandığı toplumsal belleği araştırırken yorumcu her seferinde felsefenin ayakkabılarıyla dil yolunda yürdüüğünün bilincine varır. Dil yolunda ve okuru da dil yoluna davet ederek...\n",
      "Soylu bir aileye mensup olan Platon yılında Atinada doğmuş ve iyi bir eğitim görmüştür.\n",
      "Diogenes Laertios Platonun doğum tarihini kendi tahminlerine göre yıllarına yerleştirmiştir ancak günümüzde Platonun Yedinci Mektupundan yola çıkarak te doğmuş olması gerektiği düşünülmektedir.\n",
      "yaşında Sokratesle karşılaşınca felsefeye yönelmiş ve hocasının ölümüne kadar yıl boyunca öğrencisi olmuştur hocası ölünce diğer öğrencilerle birlikte Megaraya gitmiş ama burada uzun süre kalmayarak önce Mısıra oradan da Pythagorasçıların etkili oldukları Sicilya ve Güney İtalyaya geçmiştir.\n",
      "Bir ara korsanların eline düşmüş fidye vererek kurtulduktan sonra kırk yaşlarında Atinaya dönmüştür.\n",
      "Atinada Akademiyi kurarak dersler vermeye başlayan Platon yılında yaşındayken ölmüştür.\n",
      "Ludwig Josef Johann Wittgenstein Avusturya doğumlu filozof ve matematikçi.\n",
      "Mantık ve dil felsefesi konularında yaptığı çalışmalarla modern felsefeye önemli katkılarda bulunmuştur. . yüzyılın en önemli filozoflarından sayılır.\n",
      "Asıl adı Ludwig Josef Johann Wittgenstein olan Avusturya asıllı filozof da Viyanada dünyaya gelmiştir.\n",
      "\n",
      "yaşına kadar eğitimine özel derslerle devam eden Wittgenstein ortaokulu okuduktan sonra yılında teknik lisenin makine mühendisliği bölümüne girmiştir. yılında mühendis diplomasını aldıktan sonra uçak motoru yapımı denemelerinin yapıldığı Manchester mühendislik bilimi bölümüne gitmiştir. Kısa bir süre sonra bu kararından vazgeçen Wittgenstein yılında patent aldığı uçak pervanesini geliştirme önerileri projesi üzerinde çalışmıştır.\n"
     ]
    }
   ],
   "source": [
    "for file, content in data.items():\n",
    "    for index, line in enumerate(content):\n",
    "        remove = string.punctuation.replace(\".\",\"\").replace(\"?\",\"\")\n",
    "        new_line = line.translate(str.maketrans(\"\",\"\", remove)).replace(\"M.Ö.\",\"\")\n",
    "        for word in new_line.split(): \n",
    "            if word == word.title():\n",
    "                new_line = new_line.replace(word, word.capitalize())\n",
    "            else:\n",
    "                new_line = new_line.replace(word, word.lower())\n",
    "        new_line = re.sub(r'\\d+', \"\", new_line)\n",
    "        new_line = \" \".join(word for word in new_line.split() if word.lower() not in dates)\n",
    "        \n",
    "# turkish nlp does not work properly so I decided to write this part as commentary line, did not run the code    \n",
    "#       for word in new_line.split():   \n",
    "#           corrected_words = []\n",
    "#           corrected_words.append(word.replace(\".\",\"\"))\n",
    "#           replaced_word = obj.auto_correct(corrected_words)[0]\n",
    "#           if replaced_word != word:\n",
    "#               word = word.replace(\".\",\"\")\n",
    "#               new_line = new_line.replace(word, replaced_word)\n",
    "#       corrected_words = obj.list_words(new_line)\n",
    "#       new_line = \" \".join(obj.auto_correct(corrected_words))\n",
    "\n",
    "        print(new_line)\n",
    "        content[index] = new_line\n",
    "        "
   ]
  },
  {
   "cell_type": "markdown",
   "metadata": {},
   "source": [
    "### d) export results"
   ]
  },
  {
   "cell_type": "code",
   "execution_count": 47,
   "metadata": {},
   "outputs": [],
   "source": [
    "for file_name, content in data.items():\n",
    "    output_file = open(output_path+file_name+'_prep.', 'w')\n",
    "    for line in content:\n",
    "        output_file.write(line)\n",
    "        output_file.write('\\n')\n",
    "    output_file.close()\n",
    "    "
   ]
  }
 ],
 "metadata": {
  "kernelspec": {
   "display_name": "Python 3",
   "language": "python",
   "name": "python3"
  },
  "language_info": {
   "codemirror_mode": {
    "name": "ipython",
    "version": 3
   },
   "file_extension": ".py",
   "mimetype": "text/x-python",
   "name": "python",
   "nbconvert_exporter": "python",
   "pygments_lexer": "ipython3",
   "version": "3.8.5"
  }
 },
 "nbformat": 4,
 "nbformat_minor": 4
}
