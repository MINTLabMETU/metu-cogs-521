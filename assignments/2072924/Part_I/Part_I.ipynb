{
 "cells": [
  {
   "cell_type": "markdown",
   "metadata": {},
   "source": [
    "## Part I"
   ]
  },
  {
   "cell_type": "markdown",
   "metadata": {},
   "source": [
    "### imports"
   ]
  },
  {
   "cell_type": "code",
   "execution_count": 18,
   "metadata": {},
   "outputs": [],
   "source": [
    "import glob\n",
    "import re\n",
    "import string"
   ]
  },
  {
   "cell_type": "markdown",
   "metadata": {},
   "source": [
    "### globals"
   ]
  },
  {
   "cell_type": "code",
   "execution_count": 19,
   "metadata": {},
   "outputs": [],
   "source": [
    "input_path = \"./in/\"\n",
    "output_path = \"./out/\""
   ]
  },
  {
   "cell_type": "markdown",
   "metadata": {},
   "source": [
    "### a) read input from files and store in a dictionary"
   ]
  },
  {
   "cell_type": "code",
   "execution_count": 20,
   "metadata": {},
   "outputs": [],
   "source": [
    "def read_and_store_input(input_path):\n",
    "    \n",
    "    data = {}\n",
    "    \n",
    "    input_files = glob.glob(input_path+'plato/*.txt')\n",
    "    \n",
    "    for file_path in input_files:\n",
    "        content = open(file_path, 'r')\n",
    "        file_name = file_path.split('/')[-1]\n",
    "        data[file_name]=[]\n",
    "        \n",
    "        for line in content:\n",
    "            data[file_name].append(line) \n",
    "        \n",
    "    return data\n"
   ]
  },
  {
   "cell_type": "code",
   "execution_count": 21,
   "metadata": {},
   "outputs": [],
   "source": [
    "data = read_and_store_input(input_path)"
   ]
  },
  {
   "cell_type": "code",
   "execution_count": 22,
   "metadata": {},
   "outputs": [
    {
     "data": {
      "text/plain": [
       "{'01.txt': ['Plato’s Cratylus\\n',\n",
       "  '\\n',\n",
       "  'First published 04.10.2006; substantive revision 23.08.2018\\n',\n",
       "  '\\n',\n",
       "  \"The formal topic of the Cratylus is 'corrctness of names', a hot topic in the late fifth centurry B.C. when the dialogue has its dramatic stetting. Sophists like Prodicus offered training courses in this subject, sometimes perhaps meaning by it little more than lessons in correct diction. But that practical issue spawned the theoretical question, what criteria determine the correct choice of name for any given object? And in the Cratylus Socrates' two primary interlocutors, Hermogenes and Cratylus (the latter of whom is reported by Aristotle to have been an early philosophical influence on Plato), represent two diametrically opposed answers to that question.\\n\",\n",
       "  '\\n',\n",
       "  \"As a preliminary, it is imprtant to be cleear about what is meant by 'names'. The plural noun onomata (singular onoma), translated 'names', in fact varies between being (a) a general term for 'words', (b) more narrowly, nouns, or perhaps nouns and adjectives, and (c) in certain contexts, proper names alone. In (a), the most generic use, it comes to designate language as such. Ultimately, for this reason, the Cratylus is Plato's dialogue about language, even if the elements of language on which it concentrates are in fact mainly nouns. Proper names are included among these nouns, and at times are treated as paradigmatic examples of them.\\n\",\n",
       "  '\\n',\n",
       "  \"The positions of Hermogenes and Cratylus have come to be known to modern scholarship as 'conventionalism' and 'naturalism' respectively. An extreme linguistic conventionalist like Hermogenes holds that nothing but local or national convention determines which words are used to designate which objects. The same names could have been attached to quite different objects, and the same objects given quite different names, so long as the users of the language were party to the convention. Cratylus, as an extreme linguistic naturalist, holds that names cannot be arbitrarily chosen in the way that conventionalism describes or advocates, because names belong naturally to their specific objects. If you try to speak of something with any name other than its natural name, you are simply failing to refer to it at all. For example, he has told Hermogenes to the latter's intense annoyance, Hermogenes is not actually his name.\\n\",\n",
       "  '\\n',\n",
       "  \"Socrates is the main speaker in this dialogue, and his arguments are generally taken to represent Plato's own current views. He starts out by criticizing conventionalism, and persuades Hermogenes that some kind of naturalism must be endorsed. This leads to a long central section in which Socrates' version of naturalism is spelt out by appeal to proposed etymologies of philosophically important words: those words, it turns out, have not been attached in a merely arbitrary way to their objects, but are encoded descriptions of them. So far the argument seems to be going Cratylus' way. But in the final part of the dialogue Socrates turns to Cratylus and shows him that his expectations as a naturalist are set impossibly high: names cannot aspire to being perfect encapsulations of their objects' essences, and some element of convention must be conceded.\\n\",\n",
       "  '\\n',\n",
       "  \"Scholarly opinion has long been divided as to how Socrates' own eventual position should be understood — as a qualified vindication of conventionalism, of naturalism, or of neither. If Socrates is read as actually dismissing naturalism, it is almost inevitable that his naturalistic etymological decodings of words, to which well over half the dialogue is devoted, should be taken as not seriously intended, and in fact as making fun of the entire etymological practice. This has been the majority position among interpreters for well over a century. It rests partly on the conviction that (a) the etymologies are ridiculous, and (b) Plato knew as well as we do that they are ridiculous.\\n\",\n",
       "  '\\n',\n",
       "  \"However,  at least some caution is required here. The Greeks knew little about the historical origins of their  own language, and the style of etymology practised by Socrates in this dialogue is not very different — except perhaps in its elaborateness — from that practised by a great many ancient writers, one which had its roots in Homer and Hesiod. None of Plato's readers in antiquity, starting with his own pupil Aristotle, seems to have suspected the Cratylus etymologies of being non-serious. The interpretation according to which Plato is mocking etymological practice, although not demonstrably wrong, may be suspected of crediting him with an anachronistic degree of insight into historical linguistics. That Socrates' long etymological extravaganza is peppered with humour is not in doubt, but that the humour must be directed at the etymologies as such is less clear. Reading Socratic humour is a largely intuitive matter, and one which regularly divides readers. Socrates' humour in the Cratylus is at least partly directed at his own uncharacteristic boldness in declaiming long strings of word derivations, contrary to his familiar disavowal of expert knowledge about anything. Whether some of it is left over for deflating the etymological enterprise itself is a question on which readers must make up their own minds. But the present article is based on the contrary assumption, that the etymological practice on display in the dialogue is seriously meant.\\n\",\n",
       "  '\\n',\n",
       "  \"Where does the Cratylus belong among Plato's works? It is conventional, though far from uncontroversial, to place an entire series of dialogues featuring the 'classical theory of Forms' in his middle period (see the entry on Plato's middle period metaphysics and epistemology). And three of these — the Republic, Phaedrus and Parmenides — are often thought to belong late in that period, on the evidence of stylistic features. For those who accept this schema, the Cratylus ought to belong relatively early in the group, since it contains the classical theory of Forms but lacks the late stylistic features. It might therefore, with some plausibility, be placed close to the Phaedo, and this dating has often been favoured. However, thematic links to the interests explored in late dialogues like the Sophist have encouraged some to date it later. Besides the manuscripts preserve two passages that seem to be traces of a superseded first edition of the dialogue, suggesting that what we have could be a revised edition, quite possibly of relatively late date. If so, the text as we have it may not straightforwardly represent any one period of Plato's work.\"],\n",
       " '02.txt': ['Opening scene (383a–385e)\\n',\n",
       "  '\\n',\n",
       "  \"As the dialogue opens, Cratylus and Hermogenes are approoaching Socrates to referee their dispute (see above) about langguage. Cratylus, Hermogenes complains, has been maddeningly secretive about the details of his naturalist thesis, and has had the effrontery to inform him that Hermogenes is not his real name. How can that be, Hermogenes wonders, when all it takes for a name to be someone's name is that there be an agreement by the relevant human communiity to use it that way?\\n\",\n",
       "  '\\n',\n",
       "  \"Quizzed by Socrates about the size of the relevnt community, Hermogenes agrees that at an extreme it might even be one person's private name usage that is at issuee. And he concedes that Socrates could if he wished have private nicknames that conflict with the city's public vocabulary, for example by calling a man 'horse' and vice versa.\\n\",\n",
       "  '\\n',\n",
       "  \"This may be read as simply establishing the precise terms of Hermogenes' conventionalism. Although it is often interpreted as already reducing his thesis to an absurdity, there is no reason to think so, and at all events it is only in the next move that Socrates represents himself as developing an actual objection to Hermogenes' conventionalist stance.\\n\",\n",
       "  '\\n',\n",
       "  'The etymologies (390e–427d)\\n',\n",
       "  \"Socrates' proposed answer fillls the very extensive central section of the dialogue. In short (for to say it at length would exceed the capacity of this article), names are appropriate to their objects in so far as they describe what they are. According to a long series of etymologies proposed by Socrates, the Greek vocabulary itself, when suitably decoded, is an elaborate set of descriptions of what each named item is. To continue with the example already mentioned, the Greek word for 'man', anthrôpos, according to Socrates appears to break down into anathrôn ha opôpe, 'one who reflects on what he has seen' (399c). That is, the species which uniquely possesses both eyesight and intelligence has been given a name which acknowledges precisely that distinguishing combination.\\n\",\n",
       "  '\\n',\n",
       "  \"Any residual sympathy for Hermogenes' original conviction that man and horse could just as easily have been assigned each other's names is, it seems, meant to have evaporated by this point. (Even at 433e–434a, very near the end of the dialogue Socrates will continue to reject Hermogenes' assertion of name-interchangeability, this time with the examples of 'large' and 'small'.) Scholars who doubt that Plato means to make such generous concessions to naturalism have been inclined to treat etymologies like that of 'man' as non-serious. But this particular decoding was widely accepted by later writers, not all of them Platonists, and there is no evidence that anyone, Plato included, thought it ridiculous. The latter is equally true regarding the remainder of the etymologies.\\n\",\n",
       "  '\\n',\n",
       "  'The other etymologies that make up this central section are systematically ordered to cover the main objects of philosophical and scientific discourse. After an only partly successful trial-run with personal names, including Homeric and mythological ones (391c–397b), Socrates and Hermogenes set out to work through the vocabulary of cosmology (397c–410e): the hierarchy of intelligent beings; soul and body; names of deities; astronomical entities; the elements; and the principles of temporal regularity. They then turn to ethics (411a–421c): intellectual virtues; moral virtues; technical virtues; generic terms of evaluation; emotive states; judgement; will; and finally truth (presumably included in this section on the ground that it underlies the intellectual virtues). Lastly, they seek the roots of all this signification in the directly imitative primary sounds out of which the simplest words are composed (421c–427d).'],\n",
       " '03.txt': ['Plato (428/427 or 424/423 – 348/347 B.C.) was an Athenian philosopher during the Classical period in Ancient Greece, founder of the Platonist school of thought, and the Academy, the first institution of higher learning in the Western world.\\n',\n",
       "  '\\n',\n",
       "  'He is widely considered the pivotal figure in the history of Ancient Greek and Western phillosophy, along with his teacher, Socrates, and his most famous student, Aristotle.[a] Plato has also often been cited as one of the founders of Western religion and spirituality.[4] The so-called Neoplatonism of philosophers like Plotinus and Porphyry greatly influenced Christianity through Church Fathers such as Augustine. Alfred North Whitehead once noted: \"the safest general characterization of the European philosophical tradition is that it consists of a series of footnotes to Plato.\"[5]\\n',\n",
       "  '\\n',\n",
       "  'Plato was the innovator of the written dialogue and dialectic forms in philosophy. Plato is also considered the founder of Western political philosophy. His most famous contribution is the theory of Forms known by pure reason, in which Plato presents a solution to the problem of universals known as Platonism (also ambiguously called either Platonic realism or Platonic idealism). He is also the namesake of Platonic love and the Platonic solids.\\n',\n",
       "  '\\n',\n",
       "  \"His own most decisive philosophical influences are usually thought to have been along with Socrates, the pre-Socratics Pythagoras, Heraclitus and Parmenides, although few of his predecessors' works remain extant and much of what we know about these figures today derives from Plato himself.[b] Unlike the work of nearly all of his contemporaries, Plato's entire body of work is believed to have survived intact for over 2,400 years.[7] Although their popularity has fluctuated over the years, the works of Plato have never been without readers since the time they were written.[8]\"]}"
      ]
     },
     "execution_count": 22,
     "metadata": {},
     "output_type": "execute_result"
    }
   ],
   "source": [
    "data"
   ]
  },
  {
   "cell_type": "markdown",
   "metadata": {},
   "source": [
    "### c) spelling correction, removing punctuations, numbers, and normalize cases except proper names"
   ]
  },
  {
   "cell_type": "code",
   "execution_count": 27,
   "metadata": {},
   "outputs": [],
   "source": [
    "from spellchecker import SpellChecker"
   ]
  },
  {
   "cell_type": "code",
   "execution_count": 28,
   "metadata": {},
   "outputs": [],
   "source": [
    "spell = SpellChecker()"
   ]
  },
  {
   "cell_type": "code",
   "execution_count": 29,
   "metadata": {},
   "outputs": [
    {
     "name": "stdout",
     "output_type": "stream",
     "text": [
      "plates Cratylus\n",
      "\n",
      "First published p. substantive revision p.\n",
      "\n",
      "The formal topic of the Cratylus is correctness of names a hot topic in the late fifth century when the dialogue has its dramatic setting sophist like products offered training courses in this subject sometimes perhaps meaning by it little more than lessons in correct diction But that practical issue spawned the theoretical question what criteria determine the correct choice of name for any given object And in the Cratylus Socrates two primary interlocutors Hermogenes and Cratylus the latter of whom is reported by Aristotle to have been an early philosophical influence on Plato represent two diametrically opposed answers to that question\n",
      "\n",
      "As a preliminary it is important to be clear about what is meant by names The plural noun odonata singular sonoma translated names in fact varies between being a a general term for words b more narrowly nouns or perhaps nouns and adjectives and c in certain contexts proper names alone In a the most generic use it comes to designate language as such Ultimately for this reason the Cratylus is plates dialogue about language even if the elements of language on which it concentrates are in fact mainly nouns Proper names are included among these nouns and at times are treated as paradigmatic examples of them.\n",
      "\n",
      "The positions of Hermogenes and Cratylus have come to be known to modern scholarship as conventionalism and naturalism respectively. An extreme linguistic conventionalist like Hermogenes holds that nothing but local or national convention determines which words are used to designate which objects The same names could have been attached to quite different objects and the same objects given quite different names so long as the users of the language were party to the convention Cratylus as an extreme linguistic naturalist holds that names cannon be arbitrarily chosen in the way that conventionalism describes or advocates because names belong naturally to their specific objects If you try to speak of something with any name other than its natural name you are simply failing to refer to it at all For example he has told Hermogenes to the matters intense annoyance Hermogenes is not actually his name\n",
      "\n",
      "Socrates is the main speaker in this dialogue and his arguments are generally taken to represent plates own current views He starts out by criticizing conventionalism and persuades Hermogenes that some kind of naturalism must be endorsed This leads to a long central section in which Socrates version of naturalism is spelt out by appeal to proposed etymologies of philosophically important words those words it turns out have not been attached in a merely arbitrary way to their objects but are encoded descriptions of them. So far the argument seems to be going Cratylus way But in the final part of the dialogue Socrates turns to Cratylus and shows him that his expectations as a naturalist are set impossibly high names cannon aspire to being perfect encapsulation of their objects essences and some element of convention must be conceded\n",
      "\n",
      "Scholarly opinion has long been divided as to how Socrates own eventual position should be understood a as a qualified vindication of conventionalism of naturalism or of neither If Socrates is read as actually dismissing naturalism it is almost inevitable that his naturalistic etymological decoding of words to which well over half the dialogue is devoted should be taken as not seriously intended and in fact as making fun of the entire etymological practice This has been the majority position among interpreters for well over a century It rests partly on the conviction that a the etymologies are ridiculous and b Plato knew as well as we do that they are ridiculous\n",
      "\n",
      "However at least some caution is required here The Greeks knew little about the historical origins of their own language and the style of etymology practised by Socrates in this dialogue is not very different a except perhaps in its elaborateness a from that practised by a great many ancient writers one which had its roots in Homer and hesiod None of plates readers in antiquity starting with his own pupil Aristotle seems to have suspected the Cratylus etymologies of being non-serious The interpretation according to which Plato is mocking etymological practice although not demonstrably wrong may be suspected of crediting him with an anachronistic degree of insight into historical linguistics That Socrates long etymological extravaganza is peppered with humour is not in doubt but that the humour must be directed at the etymologies as such is less clear Reading Socratic humour is a largely intuitive matter and one which regularly divides readers Socrates humour in the Cratylus is at least partly directed at his own uncharacteristic boldness in declaiming long strings of word derivations contrary to his familiar disavowal of expert knowledge about anything Whether some of it is left over for deflating the etymological enterprise itself is a question on which readers must make up their own minds But the present article is based on the contrary assumption that the etymological practice on display in the dialogue is seriously meant\n",
      "\n",
      "Where does the Cratylus belong among plates works It is conventional though far from uncontroversial to place an entire series of dialogues featuring the classical theory of Forms in his middle period see the entry on plates middle period metaphysics and epistemology And three of these a the Republic Phaedrus and Parmenides a are often thought to belong late in that period on the evidence of stylistic features For those who accept this schema the Cratylus ought to belong relatively early in the group since it contains the classical theory of Forms but lacks the late stylistic features It might therefore with some plausibility be placed close to the phased and this dating has often been favoured However thematic links to the interests explored in late dialogues like the Sophist have encouraged some to date it later Besides the manuscripts preserve two passages that seem to be traces of a superseded first edition of the dialogue suggesting that what we have could be a revised edition quite possibly of relatively late date If so the text as we have it may not straightforwardly represent any one period of plates work\n",
      "Opening scene are\n",
      "\n",
      "As the dialogue opens Cratylus and Hermogenes are approaching Socrates to referee their dispute see above about language Cratylus Hermogenes complains has been maddeningly secretive about the details of his naturalist thesis and has had the effrontery to inform him that Hermogenes is not his real name How can that be Hermogenes wonders when all it takes for a name to be someone name is that there be an agreement by the relevant human community to use it that way\n",
      "\n",
      "Quizzed by Socrates about the size of the relevant community Hermogenes agrees that at an extreme it might even be one persons private name usage that is at issue And he concedes that Socrates could if he wished have private nicknames that conflict with the city public vocabulary for example by calling a man horse and vice versa\n",
      "\n",
      "This may be read as simply establishing the precise terms of Hermogenes conventionalism Although it is often interpreted as already reducing his thesis to an absurdity there is no reason to think so and at all events it is only in the next move that Socrates represents himself as developing an actual objection to Hermogenes conventionalist stance\n",
      "\n",
      "The etymologies end\n",
      "Socrates proposed answer fills the very extensive central section of the dialogue In short for to say it at length would exceed the capacity of this article names are appropriate to their objects in so far as they describe what they are According to a long series of etymologies proposed by Socrates the Greek vocabulary itself when suitably decoded is an elaborate set of descriptions of what each named item is. To continue with the example already mentioned the Greek word for man anthrôpos according to Socrates appears to break down into anathrôn ha pipe one who reflects on what he has seen c. That is the species which uniquely possesses both eyesight and intelligence has been given a name which acknowledges precisely that distinguishing combination\n",
      "\n"
     ]
    },
    {
     "name": "stdout",
     "output_type": "stream",
     "text": [
      "Any residual sympathy for Hermogenes original conviction that man and horse could just as easily have been assigned each others names is it seems meant to have evaporated by this point Even at era very near the end of the dialogue Socrates will continue to reject Hermogenes assertion of nameinterchangeability this time with the examples of large and small Scholars who doubt that Plato means to make such generous concessions to naturalism have been inclined to treat etymologies like that of man as non-serious But this particular decoding was widely accepted by later writers not all of them Platonists and there is no evidence that anyone Plato included thought it ridiculous The latter is equally true regarding the remainder of the etymologies\n",
      "\n",
      "The other etymologies that make up this central section are systematically ordered to cover the main objects of philosophical and scientific discourse After an only partly successful trialrun with personal names including Homeric and mythological ones cab Socrates and Hermogenes set out to work through the vocabulary of cosmology cue the hierarchy of intelligent beings soul and body names of deities astronomical entities the elements and the principles of temporal regularity They then turn to ethics anc intellectual virtues moral virtues technical virtues generic terms of evaluation emotive states judgement will and finally truth presumably included in this section on the ground that it underlies the intellectual virtues Lastly they seek the roots of all this signification in the directly imitative primary sounds out of which the simplest words are composed cmd.\n",
      "Plato or a was an Athenian philosopher during the Classical period in Ancient Greece founder of the Platonist school of thought and the Academy the first institution of higher learning in the Western world\n",
      "\n",
      "He is widely considered the pivotal figure in the history of Ancient Greek and Western philosophy along with his teacher Socrates and his most famous student aristotle Plato has also often been cited as one of the founders of Western religion and spirituality The socalled Neoplatonism of philosophers like Plotinus and Porphyry greatly influenced Christianity through Church Fathers such as augustine Alfred North Whitehead once noted the safest general characterization of the European philosophical tradition is that it consists of a series of footnotes to plato\n",
      "\n",
      "Plato was the innovator of the written dialogue and dialectic forms in philosophy Plato is also considered the founder of Western political philosophy His most famous contribution is the theory of Forms known by pure reason in which Plato presents a solution to the problem of universals known as platonist also ambiguously called either Platonic realism or Platonic idealism He is also the namesake of Platonic love and the Platonic solids\n",
      "\n",
      "His own most decisive philosophical influences are usually thought to have been along with Socrates the presocratics Pythagoras Heraclitus and Parmenides although few of his predecessors works remain extant and much of what we know about these figures today derives from Plato himself Unlike the work of nearly all of his contemporaries plates entire body of work is believed to have survived intact for over years Although their popularity has fluctuated over the years the works of Plato have never been without readers since the time they were written\n"
     ]
    }
   ],
   "source": [
    "for file, content in data.items():\n",
    "    for index, line in enumerate(content):\n",
    "        remove = string.punctuation.replace(\".\",\"\").replace(\"?\",\"\")\n",
    "        new_line = line.translate(str.maketrans(\"\",\"\", remove)).replace(\"B.C.\",\"\")\n",
    "        for word in new_line.split(): \n",
    "            if word == word.title():\n",
    "                new_line = new_line.replace(word, word.capitalize())\n",
    "            else:\n",
    "                new_line = new_line.replace(word, word.lower())\n",
    "        new_line = re.sub(r'\\d+', \"\", new_line)\n",
    "        new_line = \" \".join((spell.correction(word)) for word in new_line.split() if word.lower()) #is in misspelled)\n",
    "        \n",
    "        print(new_line)\n",
    "        content[index] = new_line"
   ]
  },
  {
   "cell_type": "markdown",
   "metadata": {},
   "source": [
    "### d) export results"
   ]
  },
  {
   "cell_type": "code",
   "execution_count": 30,
   "metadata": {},
   "outputs": [],
   "source": [
    "for file_name, content in data.items():\n",
    "    output_file = open(output_path+file_name+'_prep.', 'w')\n",
    "    for line in content:\n",
    "        output_file.write(line)\n",
    "        output_file.write('\\n')\n",
    "    output_file.close()\n",
    "    "
   ]
  },
  {
   "cell_type": "code",
   "execution_count": null,
   "metadata": {},
   "outputs": [],
   "source": []
  }
 ],
 "metadata": {
  "kernelspec": {
   "display_name": "Python 3",
   "language": "python",
   "name": "python3"
  },
  "language_info": {
   "codemirror_mode": {
    "name": "ipython",
    "version": 3
   },
   "file_extension": ".py",
   "mimetype": "text/x-python",
   "name": "python",
   "nbconvert_exporter": "python",
   "pygments_lexer": "ipython3",
   "version": "3.8.5"
  }
 },
 "nbformat": 4,
 "nbformat_minor": 4
}
